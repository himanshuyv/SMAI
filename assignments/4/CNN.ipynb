{
 "cells": [
  {
   "cell_type": "code",
   "execution_count": 34,
   "metadata": {},
   "outputs": [],
   "source": [
    "import torch\n",
    "import numpy as np\n",
    "import pandas as pd\n",
    "import matplotlib.pyplot as plt\n",
    "import os\n",
    "import torch.nn as nn\n",
    "import torch.nn.functional as F\n",
    "from PIL import Image\n",
    "from torch.utils.data import Dataset, DataLoader\n",
    "from tqdm import tqdm\n"
   ]
  },
  {
   "cell_type": "code",
   "execution_count": 35,
   "metadata": {},
   "outputs": [],
   "source": [
    "device = torch.device(\"cuda\" if torch.cuda.is_available() else \"cpu\")"
   ]
  },
  {
   "cell_type": "markdown",
   "metadata": {},
   "source": [
    "## Question 2: Classification Using CNN"
   ]
  },
  {
   "cell_type": "markdown",
   "metadata": {},
   "source": [
    "### Data Loading and Preprocessing"
   ]
  },
  {
   "cell_type": "code",
   "execution_count": 36,
   "metadata": {},
   "outputs": [],
   "source": [
    "def load_mnist_data(path):\n",
    "    splits = ['train', 'val', 'test']\n",
    "    data = {'train': [], 'val': [], 'test': []}\n",
    "    labels = {'train': [], 'val': [], 'test': []}\n",
    "    for split in splits:\n",
    "        split_path = os.path.join(path, split)\n",
    "        for label in os.listdir(split_path):\n",
    "            label_path = os.path.join(split_path, label)\n",
    "            if (len(label)==1 and int(label) == 0):\n",
    "                cur_label = 0\n",
    "            else:\n",
    "                cur_label = len(label)\n",
    "            if os.path.isdir(label_path):\n",
    "                for image_name in os.listdir(label_path):\n",
    "                    image_path = os.path.join(label_path, image_name)\n",
    "                    try:\n",
    "                        image = Image.open(image_path).convert('L')\n",
    "                        image_array = np.array(image)\n",
    "                        data[split].append(image_array)\n",
    "                        labels[split].append(cur_label)\n",
    "                    except Exception as e:\n",
    "                        print(f\"Error loading image {image_name}: {e}\")\n",
    "    \n",
    "    return data['train'], labels['train'], data['val'], labels['val'], data['test'], labels['test']\n",
    "\n"
   ]
  },
  {
   "cell_type": "code",
   "execution_count": 37,
   "metadata": {},
   "outputs": [],
   "source": [
    "data_path = \"./../../data/external/double_mnist\"\n",
    "\n",
    "train_data, train_labels, val_data, val_labels, test_data, test_labels = load_mnist_data(data_path)"
   ]
  },
  {
   "cell_type": "code",
   "execution_count": 38,
   "metadata": {},
   "outputs": [],
   "source": [
    "class MultiMNISTDataset(Dataset):\n",
    "    def __init__(self, images, labels, task = 'classification', transform=None):\n",
    "        self.images = images\n",
    "        self.labels = labels\n",
    "        self.task = task\n",
    "        self.transform = transform\n",
    "    def __len__(self):\n",
    "        return len(self.images)\n",
    "\n",
    "    def __getitem__(self, idx):\n",
    "        image = self.images[idx]\n",
    "        label = self.labels[idx]\n",
    "\n",
    "        image = torch.tensor(image, dtype=torch.float32) / 255.0\n",
    "        image = image.unsqueeze(0)\n",
    "\n",
    "        if self.transform:\n",
    "            image = self.transform(image)\n",
    "            \n",
    "        if (self.task == 'classification'):\n",
    "            label = torch.tensor(label, dtype=torch.long).to(device)\n",
    "        elif (self.task == 'regression'):\n",
    "            label = torch.tensor(label, dtype=torch.float32).to(device).unsqueeze(0)\n",
    "        return image, label\n"
   ]
  },
  {
   "cell_type": "markdown",
   "metadata": {},
   "source": [
    "### Implement the CNN Class"
   ]
  },
  {
   "cell_type": "code",
   "execution_count": 39,
   "metadata": {},
   "outputs": [],
   "source": [
    "class CNN(nn.Module):\n",
    "    def __init__(self, task='classification', num_classes=10):\n",
    "        super(CNN, self).__init__()\n",
    "        \n",
    "        self.task = task\n",
    "        self.num_classes = num_classes\n",
    "        self.conv1 = nn.Conv2d(in_channels=1, out_channels=32, kernel_size=3, stride=2, padding=1)\n",
    "        self.conv2 = nn.Conv2d(in_channels=32, out_channels=64, kernel_size=3, stride=2, padding=1)\n",
    "        self.conv3 = nn.Conv2d(in_channels=64, out_channels=128, kernel_size=3, stride=2, padding=1)\n",
    "        self.pool = nn.MaxPool2d(kernel_size=2, stride=2)\n",
    "        self.relu = nn.ReLU()\n",
    "        \n",
    "        self.fc1 = None\n",
    "        self.fc2 = nn.Linear(128, 64)\n",
    "        \n",
    "        if task == 'classification':\n",
    "            self.fc3 = nn.Linear(64, num_classes)\n",
    "        elif task == 'regression':\n",
    "            self.fc3 = nn.Linear(64, 1)\n",
    "\n",
    "    def _initialize_fc(self, input_shape, device):\n",
    "        dummy_input = torch.zeros(1, *input_shape).to(device)\n",
    "        with torch.no_grad():\n",
    "            output, _ = self._forward_conv(dummy_input)\n",
    "        flattened_size = output.view(-1).shape[0]\n",
    "        self.fc1 = nn.Linear(flattened_size, 128).to(device)\n",
    "\n",
    "    def _forward_conv(self, x):\n",
    "        feature_maps = {}\n",
    "        x = self.pool(self.relu(self.conv1(x)))\n",
    "        feature_maps['conv1'] = x\n",
    "        x = self.pool(self.relu(self.conv2(x)))\n",
    "        feature_maps['conv2'] = x\n",
    "        x = self.pool(self.relu(self.conv3(x)))\n",
    "        feature_maps['conv3'] = x\n",
    "        return x, feature_maps\n",
    "\n",
    "    def forward(self, x):\n",
    "        if self.fc1 is None:\n",
    "            self._initialize_fc(x.shape[1:], x.device)\n",
    "\n",
    "        x, feature_maps = self._forward_conv(x)\n",
    "        x = x.view(x.size(0), -1)\n",
    "        x = self.relu(self.fc1(x))\n",
    "        x = self.relu(self.fc2(x))\n",
    "        x = self.fc3(x)\n",
    "        return x, feature_maps\n",
    "\n",
    "    def predict(self, x):\n",
    "        self.eval()\n",
    "        with torch.no_grad():\n",
    "            y_pred, feature_maps = self.forward(x)\n",
    "        return y_pred, feature_maps\n",
    "\n",
    "    def get_accuracy(self, y_pred, y_true):\n",
    "        if self.task == 'classification':\n",
    "            y_pred = torch.argmax(y_pred, dim=1)\n",
    "            return (y_pred == y_true).float().mean()\n",
    "        elif self.task == 'regression':\n",
    "            y_pred = torch.round(y_pred)\n",
    "            return (y_pred == y_true).float().mean()\n",
    "\n",
    "    def loss(self, y_pred, y_true):\n",
    "        if self.task == 'classification':\n",
    "            return F.cross_entropy(y_pred, y_true)\n",
    "        elif self.task == 'regression':\n",
    "            return F.mse_loss(y_pred, y_true)\n",
    "\n",
    "    def train_model(self, optimizer, train_loader, val_loader, num_epochs=10, device='cpu'):\n",
    "        self.to(device)\n",
    "        for epoch in range(num_epochs):\n",
    "            self.train()\n",
    "            train_progress = tqdm(enumerate(train_loader), total=len(train_loader), desc=f\"Epoch {epoch + 1}/{num_epochs}\")\n",
    "            \n",
    "            for i, (x, y) in train_progress:\n",
    "                x, y = x.to(device), y.to(device)\n",
    "                optimizer.zero_grad()\n",
    "                y_pred, _ = self.forward(x)\n",
    "                loss = self.loss(y_pred, y)\n",
    "                loss.backward()\n",
    "                optimizer.step()\n",
    "                train_progress.set_postfix({\"Loss\": f\"{loss.item():.4f}\"})\n",
    "            \n",
    "            self.eval()\n",
    "            total_accuracy = 0\n",
    "            total_loss = 0\n",
    "            with torch.no_grad():\n",
    "                for x, y in val_loader:\n",
    "                    x, y = x.to(device), y.to(device)\n",
    "                    y_pred, _ = self.forward(x)\n",
    "                    total_loss += self.loss(y_pred, y).item()\n",
    "                    total_accuracy += self.get_accuracy(y_pred, y).item()\n",
    "                    \n",
    "                avg_loss = total_loss / len(val_loader)\n",
    "                accuracy = total_accuracy / len(val_loader)\n",
    "                print(f\"Epoch {epoch + 1}, Validation Accuracy: {accuracy*100:.2f}%, Validation Loss: {avg_loss:.6f}\")\n",
    "\n",
    "    def visulize_feature_maps(self, train_loader, device='cpu'):\n",
    "        self.eval()\n",
    "        with torch.no_grad():\n",
    "            fig, ax = plt.subplots(3, 3, figsize=(15, 5))\n",
    "            cnt = 0\n",
    "            for x, y in train_loader:\n",
    "                x = x.to(device)\n",
    "                if cnt == 3:\n",
    "                    break\n",
    "                _, feature_maps = self.forward(x)\n",
    "                for i in range(3):\n",
    "                    ax[cnt, i].imshow(feature_maps[f'conv{i+1}'][0, 0].cpu().numpy(), cmap='gray')\n",
    "                    ax[cnt, i].set_title(f'Conv{i+1} Feature Map')\n",
    "                    ax[cnt, i].axis('off')\n",
    "                cnt += 1\n",
    "\n",
    "            plt.show()"
   ]
  },
  {
   "cell_type": "code",
   "execution_count": 40,
   "metadata": {},
   "outputs": [],
   "source": [
    "train_data_classification = MultiMNISTDataset(train_data, train_labels)\n",
    "val_data_classification = MultiMNISTDataset(val_data, val_labels)\n",
    "test_data_classification = MultiMNISTDataset(test_data, test_labels)\n",
    "\n",
    "train_loader_classification = DataLoader(train_data_classification, batch_size=32, shuffle=True)\n",
    "val_loader_classification = DataLoader(val_data_classification, batch_size=32, shuffle=False)\n",
    "test_loader_classification = DataLoader(test_data_classification, batch_size=32, shuffle=False)"
   ]
  },
  {
   "cell_type": "code",
   "execution_count": 41,
   "metadata": {},
   "outputs": [
    {
     "name": "stderr",
     "output_type": "stream",
     "text": [
      "Epoch 1/20: 100%|██████████| 394/394 [00:07<00:00, 55.82it/s, Loss=0.0154]\n"
     ]
    },
    {
     "name": "stdout",
     "output_type": "stream",
     "text": [
      "Epoch 1, Validation Accuracy: 98.47%, Validation Loss: 0.045583\n"
     ]
    },
    {
     "name": "stderr",
     "output_type": "stream",
     "text": [
      "Epoch 2/20: 100%|██████████| 394/394 [00:05<00:00, 74.52it/s, Loss=0.0056]\n"
     ]
    },
    {
     "name": "stdout",
     "output_type": "stream",
     "text": [
      "Epoch 2, Validation Accuracy: 99.53%, Validation Loss: 0.014361\n"
     ]
    },
    {
     "name": "stderr",
     "output_type": "stream",
     "text": [
      "Epoch 3/20: 100%|██████████| 394/394 [00:05<00:00, 73.09it/s, Loss=0.0063]\n"
     ]
    },
    {
     "name": "stdout",
     "output_type": "stream",
     "text": [
      "Epoch 3, Validation Accuracy: 99.80%, Validation Loss: 0.008246\n"
     ]
    },
    {
     "name": "stderr",
     "output_type": "stream",
     "text": [
      "Epoch 4/20: 100%|██████████| 394/394 [00:06<00:00, 64.38it/s, Loss=0.0007]\n"
     ]
    },
    {
     "name": "stdout",
     "output_type": "stream",
     "text": [
      "Epoch 4, Validation Accuracy: 99.67%, Validation Loss: 0.008610\n"
     ]
    },
    {
     "name": "stderr",
     "output_type": "stream",
     "text": [
      "Epoch 5/20: 100%|██████████| 394/394 [00:08<00:00, 45.44it/s, Loss=0.0002]\n"
     ]
    },
    {
     "name": "stdout",
     "output_type": "stream",
     "text": [
      "Epoch 5, Validation Accuracy: 99.73%, Validation Loss: 0.009455\n"
     ]
    },
    {
     "name": "stderr",
     "output_type": "stream",
     "text": [
      "Epoch 6/20: 100%|██████████| 394/394 [00:05<00:00, 77.16it/s, Loss=0.0000]\n"
     ]
    },
    {
     "name": "stdout",
     "output_type": "stream",
     "text": [
      "Epoch 6, Validation Accuracy: 99.80%, Validation Loss: 0.007327\n"
     ]
    },
    {
     "name": "stderr",
     "output_type": "stream",
     "text": [
      "Epoch 7/20: 100%|██████████| 394/394 [00:06<00:00, 62.09it/s, Loss=0.0000]\n"
     ]
    },
    {
     "name": "stdout",
     "output_type": "stream",
     "text": [
      "Epoch 7, Validation Accuracy: 99.80%, Validation Loss: 0.005274\n"
     ]
    },
    {
     "name": "stderr",
     "output_type": "stream",
     "text": [
      "Epoch 8/20: 100%|██████████| 394/394 [00:05<00:00, 72.36it/s, Loss=0.0000]\n"
     ]
    },
    {
     "name": "stdout",
     "output_type": "stream",
     "text": [
      "Epoch 8, Validation Accuracy: 99.97%, Validation Loss: 0.001591\n"
     ]
    },
    {
     "name": "stderr",
     "output_type": "stream",
     "text": [
      "Epoch 9/20: 100%|██████████| 394/394 [00:05<00:00, 77.07it/s, Loss=0.0000]\n"
     ]
    },
    {
     "name": "stdout",
     "output_type": "stream",
     "text": [
      "Epoch 9, Validation Accuracy: 99.73%, Validation Loss: 0.007784\n"
     ]
    },
    {
     "name": "stderr",
     "output_type": "stream",
     "text": [
      "Epoch 10/20: 100%|██████████| 394/394 [00:04<00:00, 86.30it/s, Loss=0.0001]\n"
     ]
    },
    {
     "name": "stdout",
     "output_type": "stream",
     "text": [
      "Epoch 10, Validation Accuracy: 99.09%, Validation Loss: 0.025345\n"
     ]
    },
    {
     "name": "stderr",
     "output_type": "stream",
     "text": [
      "Epoch 11/20: 100%|██████████| 394/394 [00:04<00:00, 86.32it/s, Loss=0.0000]\n"
     ]
    },
    {
     "name": "stdout",
     "output_type": "stream",
     "text": [
      "Epoch 11, Validation Accuracy: 99.90%, Validation Loss: 0.004040\n"
     ]
    },
    {
     "name": "stderr",
     "output_type": "stream",
     "text": [
      "Epoch 12/20: 100%|██████████| 394/394 [00:04<00:00, 86.63it/s, Loss=0.0000]\n"
     ]
    },
    {
     "name": "stdout",
     "output_type": "stream",
     "text": [
      "Epoch 12, Validation Accuracy: 99.80%, Validation Loss: 0.003820\n"
     ]
    },
    {
     "name": "stderr",
     "output_type": "stream",
     "text": [
      "Epoch 13/20: 100%|██████████| 394/394 [00:04<00:00, 84.58it/s, Loss=0.0004]\n"
     ]
    },
    {
     "name": "stdout",
     "output_type": "stream",
     "text": [
      "Epoch 13, Validation Accuracy: 99.87%, Validation Loss: 0.002908\n"
     ]
    },
    {
     "name": "stderr",
     "output_type": "stream",
     "text": [
      "Epoch 14/20: 100%|██████████| 394/394 [00:04<00:00, 85.68it/s, Loss=0.0000]\n"
     ]
    },
    {
     "name": "stdout",
     "output_type": "stream",
     "text": [
      "Epoch 14, Validation Accuracy: 99.97%, Validation Loss: 0.001185\n"
     ]
    },
    {
     "name": "stderr",
     "output_type": "stream",
     "text": [
      "Epoch 15/20: 100%|██████████| 394/394 [00:04<00:00, 84.30it/s, Loss=0.0000]\n"
     ]
    },
    {
     "name": "stdout",
     "output_type": "stream",
     "text": [
      "Epoch 15, Validation Accuracy: 100.00%, Validation Loss: 0.000545\n"
     ]
    },
    {
     "name": "stderr",
     "output_type": "stream",
     "text": [
      "Epoch 16/20: 100%|██████████| 394/394 [00:05<00:00, 78.49it/s, Loss=0.0000]\n"
     ]
    },
    {
     "name": "stdout",
     "output_type": "stream",
     "text": [
      "Epoch 16, Validation Accuracy: 100.00%, Validation Loss: 0.000486\n"
     ]
    },
    {
     "name": "stderr",
     "output_type": "stream",
     "text": [
      "Epoch 17/20: 100%|██████████| 394/394 [00:04<00:00, 82.09it/s, Loss=0.0000]\n"
     ]
    },
    {
     "name": "stdout",
     "output_type": "stream",
     "text": [
      "Epoch 17, Validation Accuracy: 100.00%, Validation Loss: 0.000443\n"
     ]
    },
    {
     "name": "stderr",
     "output_type": "stream",
     "text": [
      "Epoch 18/20: 100%|██████████| 394/394 [00:04<00:00, 84.36it/s, Loss=0.0000]\n"
     ]
    },
    {
     "name": "stdout",
     "output_type": "stream",
     "text": [
      "Epoch 18, Validation Accuracy: 100.00%, Validation Loss: 0.000429\n"
     ]
    },
    {
     "name": "stderr",
     "output_type": "stream",
     "text": [
      "Epoch 19/20: 100%|██████████| 394/394 [00:04<00:00, 85.95it/s, Loss=0.0000]\n"
     ]
    },
    {
     "name": "stdout",
     "output_type": "stream",
     "text": [
      "Epoch 19, Validation Accuracy: 100.00%, Validation Loss: 0.000410\n"
     ]
    },
    {
     "name": "stderr",
     "output_type": "stream",
     "text": [
      "Epoch 20/20: 100%|██████████| 394/394 [00:04<00:00, 85.41it/s, Loss=0.0000]\n"
     ]
    },
    {
     "name": "stdout",
     "output_type": "stream",
     "text": [
      "Epoch 20, Validation Accuracy: 100.00%, Validation Loss: 0.000399\n"
     ]
    }
   ],
   "source": [
    "model_single_classification = CNN(task='classification', num_classes=4).to(device)\n",
    "optimizer = torch.optim.Adam(model_single_classification.parameters(), lr=0.001)\n",
    "model_single_classification.train_model(optimizer, train_loader_classification, val_loader_classification, num_epochs=20, device=device)"
   ]
  },
  {
   "cell_type": "code",
   "execution_count": 42,
   "metadata": {},
   "outputs": [
    {
     "data": {
      "image/png": "[encoded data removed]",
      "text/plain": [
       "<Figure size 1500x500 with 9 Axes>"
      ]
     },
     "metadata": {},
     "output_type": "display_data"
    }
   ],
   "source": [
    "model_single_classification.visulize_feature_maps(train_loader_classification, device=device)"
   ]
  },
  {
   "cell_type": "code",
   "execution_count": 43,
   "metadata": {},
   "outputs": [],
   "source": [
    "train_data_regression = MultiMNISTDataset(train_data, train_labels, task='regression')\n",
    "val_data_regression = MultiMNISTDataset(val_data, val_labels, task='regression')\n",
    "test_data_regression = MultiMNISTDataset(test_data, test_labels, task='regression')\n",
    "\n",
    "train_loader_regression = DataLoader(train_data_regression, batch_size=32, shuffle=True)\n",
    "val_loader_regression = DataLoader(val_data_regression, batch_size=32, shuffle=False)\n",
    "test_loader_regression = DataLoader(test_data_regression, batch_size=32, shuffle=False)"
   ]
  },
  {
   "cell_type": "code",
   "execution_count": 44,
   "metadata": {},
   "outputs": [
    {
     "name": "stderr",
     "output_type": "stream",
     "text": [
      "Epoch 1/15: 100%|██████████| 394/394 [00:05<00:00, 77.92it/s, Loss=0.0512]\n"
     ]
    },
    {
     "name": "stdout",
     "output_type": "stream",
     "text": [
      "Epoch 1, Validation Accuracy: 94.71%, Validation Loss: 0.063119\n"
     ]
    },
    {
     "name": "stderr",
     "output_type": "stream",
     "text": [
      "Epoch 2/15: 100%|██████████| 394/394 [00:04<00:00, 80.25it/s, Loss=0.0188]\n"
     ]
    },
    {
     "name": "stdout",
     "output_type": "stream",
     "text": [
      "Epoch 2, Validation Accuracy: 98.74%, Validation Loss: 0.033658\n"
     ]
    },
    {
     "name": "stderr",
     "output_type": "stream",
     "text": [
      "Epoch 3/15: 100%|██████████| 394/394 [00:04<00:00, 83.44it/s, Loss=0.0127]\n"
     ]
    },
    {
     "name": "stdout",
     "output_type": "stream",
     "text": [
      "Epoch 3, Validation Accuracy: 99.04%, Validation Loss: 0.028194\n"
     ]
    },
    {
     "name": "stderr",
     "output_type": "stream",
     "text": [
      "Epoch 4/15: 100%|██████████| 394/394 [00:04<00:00, 83.14it/s, Loss=0.0156]\n"
     ]
    },
    {
     "name": "stdout",
     "output_type": "stream",
     "text": [
      "Epoch 4, Validation Accuracy: 99.60%, Validation Loss: 0.021258\n"
     ]
    },
    {
     "name": "stderr",
     "output_type": "stream",
     "text": [
      "Epoch 5/15: 100%|██████████| 394/394 [00:04<00:00, 82.73it/s, Loss=0.0325]\n"
     ]
    },
    {
     "name": "stdout",
     "output_type": "stream",
     "text": [
      "Epoch 5, Validation Accuracy: 99.67%, Validation Loss: 0.018528\n"
     ]
    },
    {
     "name": "stderr",
     "output_type": "stream",
     "text": [
      "Epoch 6/15: 100%|██████████| 394/394 [00:04<00:00, 83.17it/s, Loss=0.0238]\n"
     ]
    },
    {
     "name": "stdout",
     "output_type": "stream",
     "text": [
      "Epoch 6, Validation Accuracy: 99.67%, Validation Loss: 0.016352\n"
     ]
    },
    {
     "name": "stderr",
     "output_type": "stream",
     "text": [
      "Epoch 7/15: 100%|██████████| 394/394 [00:04<00:00, 82.93it/s, Loss=0.0043]\n"
     ]
    },
    {
     "name": "stdout",
     "output_type": "stream",
     "text": [
      "Epoch 7, Validation Accuracy: 99.77%, Validation Loss: 0.015233\n"
     ]
    },
    {
     "name": "stderr",
     "output_type": "stream",
     "text": [
      "Epoch 8/15: 100%|██████████| 394/394 [00:04<00:00, 83.75it/s, Loss=0.0149]\n"
     ]
    },
    {
     "name": "stdout",
     "output_type": "stream",
     "text": [
      "Epoch 8, Validation Accuracy: 99.93%, Validation Loss: 0.015775\n"
     ]
    },
    {
     "name": "stderr",
     "output_type": "stream",
     "text": [
      "Epoch 9/15: 100%|██████████| 394/394 [00:04<00:00, 83.03it/s, Loss=0.0070]\n"
     ]
    },
    {
     "name": "stdout",
     "output_type": "stream",
     "text": [
      "Epoch 9, Validation Accuracy: 99.90%, Validation Loss: 0.011202\n"
     ]
    },
    {
     "name": "stderr",
     "output_type": "stream",
     "text": [
      "Epoch 10/15: 100%|██████████| 394/394 [00:04<00:00, 83.73it/s, Loss=0.0155]\n"
     ]
    },
    {
     "name": "stdout",
     "output_type": "stream",
     "text": [
      "Epoch 10, Validation Accuracy: 99.93%, Validation Loss: 0.010845\n"
     ]
    },
    {
     "name": "stderr",
     "output_type": "stream",
     "text": [
      "Epoch 11/15: 100%|██████████| 394/394 [00:04<00:00, 83.47it/s, Loss=0.0070]\n"
     ]
    },
    {
     "name": "stdout",
     "output_type": "stream",
     "text": [
      "Epoch 11, Validation Accuracy: 99.97%, Validation Loss: 0.010793\n"
     ]
    },
    {
     "name": "stderr",
     "output_type": "stream",
     "text": [
      "Epoch 12/15: 100%|██████████| 394/394 [00:04<00:00, 82.87it/s, Loss=0.0044]\n"
     ]
    },
    {
     "name": "stdout",
     "output_type": "stream",
     "text": [
      "Epoch 12, Validation Accuracy: 99.93%, Validation Loss: 0.009396\n"
     ]
    },
    {
     "name": "stderr",
     "output_type": "stream",
     "text": [
      "Epoch 13/15: 100%|██████████| 394/394 [00:04<00:00, 84.87it/s, Loss=0.0055]\n"
     ]
    },
    {
     "name": "stdout",
     "output_type": "stream",
     "text": [
      "Epoch 13, Validation Accuracy: 99.97%, Validation Loss: 0.008580\n"
     ]
    },
    {
     "name": "stderr",
     "output_type": "stream",
     "text": [
      "Epoch 14/15: 100%|██████████| 394/394 [00:04<00:00, 85.16it/s, Loss=0.0054]\n"
     ]
    },
    {
     "name": "stdout",
     "output_type": "stream",
     "text": [
      "Epoch 14, Validation Accuracy: 100.00%, Validation Loss: 0.010965\n"
     ]
    },
    {
     "name": "stderr",
     "output_type": "stream",
     "text": [
      "Epoch 15/15: 100%|██████████| 394/394 [00:04<00:00, 84.30it/s, Loss=0.0066]\n"
     ]
    },
    {
     "name": "stdout",
     "output_type": "stream",
     "text": [
      "Epoch 15, Validation Accuracy: 99.97%, Validation Loss: 0.007844\n"
     ]
    }
   ],
   "source": [
    "model_single_regression = CNN(task='regression').to(device)\n",
    "optimizer = torch.optim.Adam(model_single_regression.parameters(), lr=0.001)\n",
    "model_single_regression.train_model(optimizer, train_loader_regression, val_loader_regression, num_epochs=15, device=device)"
   ]
  },
  {
   "cell_type": "code",
   "execution_count": 45,
   "metadata": {},
   "outputs": [
    {
     "data": {
      "image/png": "[encoded data removed]",
      "text/plain": [
       "<Figure size 1500x500 with 9 Axes>"
      ]
     },
     "metadata": {},
     "output_type": "display_data"
    }
   ],
   "source": [
    "model_single_regression.visulize_feature_maps(train_loader_regression, device=device)"
   ]
  },
  {
   "cell_type": "code",
   "execution_count": 46,
   "metadata": {},
   "outputs": [],
   "source": [
    "def load_mnist_data_multilabel(path):\n",
    "    splits = ['train', 'val', 'test']\n",
    "    data = {'train': [], 'val': [], 'test': []}\n",
    "    labels = {'train': [], 'val': [], 'test': []}\n",
    "    for split in splits:\n",
    "        split_path = os.path.join(path, split)\n",
    "        for label in os.listdir(split_path):\n",
    "            label_path = os.path.join(split_path, label)\n",
    "            if (len(label) == 1 and int(label) == 0):\n",
    "                cur_label = []\n",
    "            else:\n",
    "                cur_label = [int(i) for i in label]\n",
    "            if os.path.isdir(label_path):\n",
    "                for image_name in os.listdir(label_path):\n",
    "                    image_path = os.path.join(label_path, image_name)\n",
    "                    try:\n",
    "                        image = Image.open(image_path).convert('L')\n",
    "                        image_array = np.array(image)\n",
    "                        data[split].append(image_array)\n",
    "                        labels[split].append(cur_label)\n",
    "                    except Exception as e:\n",
    "                        print(f\"Error loading image {image_name}: {e}\")\n",
    "    \n",
    "    return data['train'], labels['train'], data['val'], labels['val'], data['test'], labels['test']"
   ]
  },
  {
   "cell_type": "code",
   "execution_count": 47,
   "metadata": {},
   "outputs": [],
   "source": [
    "def get_one_hot(y):\n",
    "    one_hot = np.zeros(33)\n",
    "    if len(y) == 0:\n",
    "        y.append(10)\n",
    "        y.append(10)\n",
    "        y.append(10)\n",
    "    elif len(y) == 1:\n",
    "        y.append(10)\n",
    "        y.append(10)\n",
    "    elif len(y) == 2:\n",
    "        y.append(10)\n",
    "    for i in range(len(y)):\n",
    "        one_hot[y[i]+10*i+i] = 1\n",
    "    return one_hot"
   ]
  },
  {
   "cell_type": "code",
   "execution_count": 48,
   "metadata": {},
   "outputs": [],
   "source": [
    "class MultiMNISTDataset_mulitlabel(Dataset):\n",
    "    def __init__(self, images, labels, task='multilabel_classification', transform=None):\n",
    "        self.images = images\n",
    "        self.labels = labels\n",
    "        self.task = task\n",
    "        self.transform = transform\n",
    "\n",
    "    def __len__(self):\n",
    "        return len(self.images)\n",
    "\n",
    "    def __getitem__(self, idx):\n",
    "        image = self.images[idx]\n",
    "        label = self.labels[idx]\n",
    "\n",
    "        image = torch.tensor(image, dtype=torch.float32) / 255.0\n",
    "        image = image.unsqueeze(0)\n",
    "\n",
    "        if self.transform:\n",
    "            image = self.transform(image)\n",
    "\n",
    "        if self.task == 'multilabel_classification':\n",
    "            label = torch.tensor(label, dtype=torch.float32).to(device)\n",
    "        else:\n",
    "            label = torch.tensor(label, dtype=torch.float32).to(device).unsqueeze(0)\n",
    "        return image, label\n"
   ]
  },
  {
   "cell_type": "code",
   "execution_count": 49,
   "metadata": {},
   "outputs": [],
   "source": [
    "class CNN_Multilabel(nn.Module):\n",
    "    def __init__(self, task='multilabel_classification', num_classes=33):\n",
    "        super(CNN_Multilabel, self).__init__()\n",
    "        \n",
    "        self.task = task\n",
    "        self.num_classes = num_classes\n",
    "        self.conv1 = nn.Conv2d(in_channels=1, out_channels=32, kernel_size=3, stride=2, padding=1)\n",
    "        self.conv2 = nn.Conv2d(in_channels=32, out_channels=64, kernel_size=3, stride=2, padding=1)\n",
    "        self.conv3 = nn.Conv2d(in_channels=64, out_channels=128, kernel_size=3, stride=2, padding=1)\n",
    "        self.pool = nn.MaxPool2d(kernel_size=2, stride=2)\n",
    "        self.relu = nn.ReLU()\n",
    "        \n",
    "        self.fc1 = None\n",
    "        self.fc2 = nn.Linear(128, 64)\n",
    "        self.fc3 = nn.Linear(64, num_classes)\n",
    "\n",
    "    def _initialize_fc(self, input_shape, device):\n",
    "        dummy_input = torch.zeros(1, *input_shape).to(device)\n",
    "        with torch.no_grad():\n",
    "            output = self._forward_conv(dummy_input)\n",
    "        flattened_size = output.view(-1).shape[0]\n",
    "        self.fc1 = nn.Linear(flattened_size, 128).to(device)\n",
    "\n",
    "    def _forward_conv(self, x):\n",
    "        x = self.pool(self.relu(self.conv1(x)))\n",
    "        x = self.pool(self.relu(self.conv2(x)))\n",
    "        x = self.pool(self.relu(self.conv3(x)))\n",
    "        return x\n",
    "\n",
    "    def forward(self, x):\n",
    "        if self.fc1 is None:\n",
    "            self._initialize_fc(x.shape[1:], x.device)\n",
    "\n",
    "        x = self._forward_conv(x)\n",
    "        x = x.view(x.size(0), -1)\n",
    "        x = self.relu(self.fc1(x))\n",
    "        x = self.relu(self.fc2(x))\n",
    "        x = self.fc3(x)\n",
    "        return x\n",
    "\n",
    "    def get_accuracy(self, y_pred, y_true):\n",
    "        if self.task == 'multilabel_classification':\n",
    "            y_pred_labels = self.convert_to_labels(y_pred)\n",
    "            y_true_labels = self.convert_to_labels(y_true)\n",
    "            accuracy = 0\n",
    "            for i in range(len(y_pred_labels)):\n",
    "                flag = 1\n",
    "                if len(y_pred_labels[i]) == len(y_true_labels[i]):\n",
    "                    for j in range(len(y_pred_labels[i])):\n",
    "                        if y_pred_labels[i][j] != y_true_labels[i][j]:\n",
    "                            flag = 0\n",
    "                            break\n",
    "                else:\n",
    "                    flag = 0\n",
    "                accuracy += flag\n",
    "            return accuracy/len(y_pred_labels)\n",
    "        else:\n",
    "            return F.mse_loss(y_pred, y_true)\n",
    "\n",
    "\n",
    "    def loss(self, y_pred, y_true):\n",
    "        if self.task == 'multilabel_classification':\n",
    "            criterion = nn.CrossEntropyLoss()\n",
    "            loss = 0\n",
    "            for i in range(3):\n",
    "                start = i * 11\n",
    "                end = (i + 1) * 11\n",
    "                target_idx = torch.argmax(y_true[:, start:end], dim=1)\n",
    "                loss += criterion(y_pred[:, start:end], target_idx)\n",
    "            return loss\n",
    "        else:\n",
    "            return F.mse_loss(y_pred, y_true)\n",
    "            \n",
    "    def convert_to_labels(self, y_pred):\n",
    "        labels = []\n",
    "        batch_size = y_pred.shape[0]\n",
    "        for i in range(batch_size):\n",
    "            label = []\n",
    "            for j in range(3):\n",
    "                start = j * 11\n",
    "                end = (j + 1) * 11\n",
    "                cur_label = torch.argmax(y_pred[i, start:end]).item()\n",
    "                if cur_label != 10:\n",
    "                    label.append(cur_label)\n",
    "                else:\n",
    "                    break\n",
    "            labels.append(label)\n",
    "        return labels\n",
    "    \n",
    "    def train_model(self, optimizer, train_loader, val_loader, num_epochs=30, device='cpu'):\n",
    "        self.to(device)\n",
    "        for epoch in range(num_epochs):\n",
    "            self.train()\n",
    "            train_progress = tqdm(enumerate(train_loader), total=len(train_loader), desc=f\"Epoch {epoch + 1}/{num_epochs}\")\n",
    "            \n",
    "            for i, (x, y) in train_progress:\n",
    "                x, y = x.to(device), y.to(device)\n",
    "                optimizer.zero_grad()\n",
    "                y_pred = self.forward(x)\n",
    "                loss = self.loss(y_pred, y)\n",
    "                loss.backward()\n",
    "                optimizer.step()\n",
    "                train_progress.set_postfix({\"Loss\": f\"{loss.item():.4f}\"})\n",
    "            \n",
    "            self.eval()\n",
    "            total_accuracy = 0\n",
    "            total_loss = 0\n",
    "            with torch.no_grad():\n",
    "                for x, y in val_loader:\n",
    "                    x, y = x.to(device), y.to(device)\n",
    "                    y_pred = self.forward(x)\n",
    "                    total_loss += self.loss(y_pred, y).item()\n",
    "                    total_accuracy += self.get_accuracy(y_pred, y)\n",
    "\n",
    "                avg_loss = total_loss / len(val_loader)\n",
    "                accuracy = total_accuracy / len(val_loader)\n",
    "                print(f\"Epoch {epoch + 1}, Validation Accuracy: {accuracy*100:.2f}%, Validation Loss: {avg_loss:.6f}\")"
   ]
  },
  {
   "cell_type": "code",
   "execution_count": 50,
   "metadata": {},
   "outputs": [],
   "source": [
    "train_data_multilabel, train_labels_multilabel, val_data_multilabel, val_labels_multilabel, test_data_multilabel, test_labels_multilabel = load_mnist_data_multilabel(data_path)"
   ]
  },
  {
   "cell_type": "code",
   "execution_count": 51,
   "metadata": {},
   "outputs": [],
   "source": [
    "train_labels_multilabel_one_hot = [get_one_hot(y) for y in train_labels_multilabel]\n",
    "val_labels_multilabel_one_hot = [get_one_hot(y) for y in val_labels_multilabel]\n",
    "test_labels_multilabel_one_hot = [get_one_hot(y) for y in test_labels_multilabel]"
   ]
  },
  {
   "cell_type": "code",
   "execution_count": 52,
   "metadata": {},
   "outputs": [],
   "source": [
    "\n",
    "train_data_multilabel = MultiMNISTDataset_mulitlabel(train_data_multilabel, train_labels_multilabel_one_hot)\n",
    "val_data_multilabel = MultiMNISTDataset_mulitlabel(val_data_multilabel, val_labels_multilabel_one_hot)\n",
    "test_data_multilabel = MultiMNISTDataset_mulitlabel(test_data_multilabel, test_labels_multilabel_one_hot)\n",
    "\n",
    "train_loader_multilabel = DataLoader(train_data_multilabel, batch_size=32, shuffle=True)\n",
    "val_loader_multilabel = DataLoader(val_data_multilabel, batch_size=32, shuffle=False)\n",
    "test_loader_multilabel = DataLoader(test_data_multilabel, batch_size=32, shuffle=False)"
   ]
  },
  {
   "cell_type": "code",
   "execution_count": 53,
   "metadata": {},
   "outputs": [
    {
     "name": "stderr",
     "output_type": "stream",
     "text": [
      "Epoch 1/50: 100%|██████████| 394/394 [00:05<00:00, 66.77it/s, Loss=4.8760]\n"
     ]
    },
    {
     "name": "stdout",
     "output_type": "stream",
     "text": [
      "Epoch 1, Validation Accuracy: 4.52%, Validation Loss: 5.099566\n"
     ]
    },
    {
     "name": "stderr",
     "output_type": "stream",
     "text": [
      "Epoch 2/50: 100%|██████████| 394/394 [00:05<00:00, 65.76it/s, Loss=4.5735]\n"
     ]
    },
    {
     "name": "stdout",
     "output_type": "stream",
     "text": [
      "Epoch 2, Validation Accuracy: 4.09%, Validation Loss: 5.255568\n"
     ]
    },
    {
     "name": "stderr",
     "output_type": "stream",
     "text": [
      "Epoch 3/50: 100%|██████████| 394/394 [00:05<00:00, 72.61it/s, Loss=4.3825]\n"
     ]
    },
    {
     "name": "stdout",
     "output_type": "stream",
     "text": [
      "Epoch 3, Validation Accuracy: 4.65%, Validation Loss: 5.170583\n"
     ]
    },
    {
     "name": "stderr",
     "output_type": "stream",
     "text": [
      "Epoch 4/50: 100%|██████████| 394/394 [00:05<00:00, 72.59it/s, Loss=4.2913]\n"
     ]
    },
    {
     "name": "stdout",
     "output_type": "stream",
     "text": [
      "Epoch 4, Validation Accuracy: 5.22%, Validation Loss: 5.029811\n"
     ]
    },
    {
     "name": "stderr",
     "output_type": "stream",
     "text": [
      "Epoch 5/50: 100%|██████████| 394/394 [00:05<00:00, 70.77it/s, Loss=4.2703]\n"
     ]
    },
    {
     "name": "stdout",
     "output_type": "stream",
     "text": [
      "Epoch 5, Validation Accuracy: 6.15%, Validation Loss: 4.638579\n"
     ]
    },
    {
     "name": "stderr",
     "output_type": "stream",
     "text": [
      "Epoch 6/50: 100%|██████████| 394/394 [00:05<00:00, 70.77it/s, Loss=3.4877]\n"
     ]
    },
    {
     "name": "stdout",
     "output_type": "stream",
     "text": [
      "Epoch 6, Validation Accuracy: 6.38%, Validation Loss: 4.645889\n"
     ]
    },
    {
     "name": "stderr",
     "output_type": "stream",
     "text": [
      "Epoch 7/50: 100%|██████████| 394/394 [00:05<00:00, 69.40it/s, Loss=3.7618]\n"
     ]
    },
    {
     "name": "stdout",
     "output_type": "stream",
     "text": [
      "Epoch 7, Validation Accuracy: 5.10%, Validation Loss: 4.768686\n"
     ]
    },
    {
     "name": "stderr",
     "output_type": "stream",
     "text": [
      "Epoch 8/50: 100%|██████████| 394/394 [00:05<00:00, 71.56it/s, Loss=3.5855]\n"
     ]
    },
    {
     "name": "stdout",
     "output_type": "stream",
     "text": [
      "Epoch 8, Validation Accuracy: 5.95%, Validation Loss: 4.820654\n"
     ]
    },
    {
     "name": "stderr",
     "output_type": "stream",
     "text": [
      "Epoch 9/50: 100%|██████████| 394/394 [00:06<00:00, 65.06it/s, Loss=3.3075]\n"
     ]
    },
    {
     "name": "stdout",
     "output_type": "stream",
     "text": [
      "Epoch 9, Validation Accuracy: 4.39%, Validation Loss: 4.950604\n"
     ]
    },
    {
     "name": "stderr",
     "output_type": "stream",
     "text": [
      "Epoch 10/50: 100%|██████████| 394/394 [00:06<00:00, 59.11it/s, Loss=3.4266]\n"
     ]
    },
    {
     "name": "stdout",
     "output_type": "stream",
     "text": [
      "Epoch 10, Validation Accuracy: 4.79%, Validation Loss: 4.893893\n"
     ]
    },
    {
     "name": "stderr",
     "output_type": "stream",
     "text": [
      "Epoch 11/50: 100%|██████████| 394/394 [00:06<00:00, 63.90it/s, Loss=2.5415]\n"
     ]
    },
    {
     "name": "stdout",
     "output_type": "stream",
     "text": [
      "Epoch 11, Validation Accuracy: 4.99%, Validation Loss: 5.079710\n"
     ]
    },
    {
     "name": "stderr",
     "output_type": "stream",
     "text": [
      "Epoch 12/50: 100%|██████████| 394/394 [00:06<00:00, 63.30it/s, Loss=2.4900]\n"
     ]
    },
    {
     "name": "stdout",
     "output_type": "stream",
     "text": [
      "Epoch 12, Validation Accuracy: 5.43%, Validation Loss: 4.786793\n"
     ]
    },
    {
     "name": "stderr",
     "output_type": "stream",
     "text": [
      "Epoch 13/50: 100%|██████████| 394/394 [00:06<00:00, 65.33it/s, Loss=3.3584]\n"
     ]
    },
    {
     "name": "stdout",
     "output_type": "stream",
     "text": [
      "Epoch 13, Validation Accuracy: 5.63%, Validation Loss: 5.223122\n"
     ]
    },
    {
     "name": "stderr",
     "output_type": "stream",
     "text": [
      "Epoch 14/50: 100%|██████████| 394/394 [00:06<00:00, 64.40it/s, Loss=2.3973]\n"
     ]
    },
    {
     "name": "stdout",
     "output_type": "stream",
     "text": [
      "Epoch 14, Validation Accuracy: 6.86%, Validation Loss: 4.957839\n"
     ]
    },
    {
     "name": "stderr",
     "output_type": "stream",
     "text": [
      "Epoch 15/50: 100%|██████████| 394/394 [00:06<00:00, 61.84it/s, Loss=2.0037]\n"
     ]
    },
    {
     "name": "stdout",
     "output_type": "stream",
     "text": [
      "Epoch 15, Validation Accuracy: 7.31%, Validation Loss: 5.201252\n"
     ]
    },
    {
     "name": "stderr",
     "output_type": "stream",
     "text": [
      "Epoch 16/50: 100%|██████████| 394/394 [00:06<00:00, 64.25it/s, Loss=1.8650]\n"
     ]
    },
    {
     "name": "stdout",
     "output_type": "stream",
     "text": [
      "Epoch 16, Validation Accuracy: 7.05%, Validation Loss: 4.754552\n"
     ]
    },
    {
     "name": "stderr",
     "output_type": "stream",
     "text": [
      "Epoch 17/50: 100%|██████████| 394/394 [00:06<00:00, 64.07it/s, Loss=2.3768]\n"
     ]
    },
    {
     "name": "stdout",
     "output_type": "stream",
     "text": [
      "Epoch 17, Validation Accuracy: 10.07%, Validation Loss: 4.683681\n"
     ]
    },
    {
     "name": "stderr",
     "output_type": "stream",
     "text": [
      "Epoch 18/50: 100%|██████████| 394/394 [00:06<00:00, 60.83it/s, Loss=2.0646]\n"
     ]
    },
    {
     "name": "stdout",
     "output_type": "stream",
     "text": [
      "Epoch 18, Validation Accuracy: 10.18%, Validation Loss: 4.571017\n"
     ]
    },
    {
     "name": "stderr",
     "output_type": "stream",
     "text": [
      "Epoch 19/50: 100%|██████████| 394/394 [00:06<00:00, 62.48it/s, Loss=2.3770]\n"
     ]
    },
    {
     "name": "stdout",
     "output_type": "stream",
     "text": [
      "Epoch 19, Validation Accuracy: 12.79%, Validation Loss: 4.275096\n"
     ]
    },
    {
     "name": "stderr",
     "output_type": "stream",
     "text": [
      "Epoch 20/50: 100%|██████████| 394/394 [00:06<00:00, 65.59it/s, Loss=1.8936]\n"
     ]
    },
    {
     "name": "stdout",
     "output_type": "stream",
     "text": [
      "Epoch 20, Validation Accuracy: 14.57%, Validation Loss: 4.422835\n"
     ]
    },
    {
     "name": "stderr",
     "output_type": "stream",
     "text": [
      "Epoch 21/50: 100%|██████████| 394/394 [00:05<00:00, 66.26it/s, Loss=1.4528]\n"
     ]
    },
    {
     "name": "stdout",
     "output_type": "stream",
     "text": [
      "Epoch 21, Validation Accuracy: 13.71%, Validation Loss: 4.631272\n"
     ]
    },
    {
     "name": "stderr",
     "output_type": "stream",
     "text": [
      "Epoch 22/50: 100%|██████████| 394/394 [00:05<00:00, 65.75it/s, Loss=1.5084]\n"
     ]
    },
    {
     "name": "stdout",
     "output_type": "stream",
     "text": [
      "Epoch 22, Validation Accuracy: 16.31%, Validation Loss: 4.121992\n"
     ]
    },
    {
     "name": "stderr",
     "output_type": "stream",
     "text": [
      "Epoch 23/50: 100%|██████████| 394/394 [00:06<00:00, 64.41it/s, Loss=1.6584]\n"
     ]
    },
    {
     "name": "stdout",
     "output_type": "stream",
     "text": [
      "Epoch 23, Validation Accuracy: 14.87%, Validation Loss: 4.404699\n"
     ]
    },
    {
     "name": "stderr",
     "output_type": "stream",
     "text": [
      "Epoch 24/50: 100%|██████████| 394/394 [00:06<00:00, 64.58it/s, Loss=1.5126]\n"
     ]
    },
    {
     "name": "stdout",
     "output_type": "stream",
     "text": [
      "Epoch 24, Validation Accuracy: 17.62%, Validation Loss: 4.553759\n"
     ]
    },
    {
     "name": "stderr",
     "output_type": "stream",
     "text": [
      "Epoch 25/50: 100%|██████████| 394/394 [00:06<00:00, 65.43it/s, Loss=1.7673]\n"
     ]
    },
    {
     "name": "stdout",
     "output_type": "stream",
     "text": [
      "Epoch 25, Validation Accuracy: 17.21%, Validation Loss: 4.516986\n"
     ]
    },
    {
     "name": "stderr",
     "output_type": "stream",
     "text": [
      "Epoch 26/50: 100%|██████████| 394/394 [00:06<00:00, 65.06it/s, Loss=1.8116]\n"
     ]
    },
    {
     "name": "stdout",
     "output_type": "stream",
     "text": [
      "Epoch 26, Validation Accuracy: 16.67%, Validation Loss: 4.670533\n"
     ]
    },
    {
     "name": "stderr",
     "output_type": "stream",
     "text": [
      "Epoch 27/50: 100%|██████████| 394/394 [00:05<00:00, 66.10it/s, Loss=1.7010]\n"
     ]
    },
    {
     "name": "stdout",
     "output_type": "stream",
     "text": [
      "Epoch 27, Validation Accuracy: 19.37%, Validation Loss: 4.649272\n"
     ]
    },
    {
     "name": "stderr",
     "output_type": "stream",
     "text": [
      "Epoch 28/50: 100%|██████████| 394/394 [00:06<00:00, 65.40it/s, Loss=1.3608]\n"
     ]
    },
    {
     "name": "stdout",
     "output_type": "stream",
     "text": [
      "Epoch 28, Validation Accuracy: 20.38%, Validation Loss: 4.233184\n"
     ]
    },
    {
     "name": "stderr",
     "output_type": "stream",
     "text": [
      "Epoch 29/50: 100%|██████████| 394/394 [00:05<00:00, 67.16it/s, Loss=1.2101]\n"
     ]
    },
    {
     "name": "stdout",
     "output_type": "stream",
     "text": [
      "Epoch 29, Validation Accuracy: 21.56%, Validation Loss: 4.560287\n"
     ]
    },
    {
     "name": "stderr",
     "output_type": "stream",
     "text": [
      "Epoch 30/50: 100%|██████████| 394/394 [00:06<00:00, 63.43it/s, Loss=1.7948]\n"
     ]
    },
    {
     "name": "stdout",
     "output_type": "stream",
     "text": [
      "Epoch 30, Validation Accuracy: 18.51%, Validation Loss: 4.608364\n"
     ]
    },
    {
     "name": "stderr",
     "output_type": "stream",
     "text": [
      "Epoch 31/50: 100%|██████████| 394/394 [00:06<00:00, 64.41it/s, Loss=1.3747]\n"
     ]
    },
    {
     "name": "stdout",
     "output_type": "stream",
     "text": [
      "Epoch 31, Validation Accuracy: 21.25%, Validation Loss: 4.710623\n"
     ]
    },
    {
     "name": "stderr",
     "output_type": "stream",
     "text": [
      "Epoch 32/50: 100%|██████████| 394/394 [00:06<00:00, 64.24it/s, Loss=0.7126]\n"
     ]
    },
    {
     "name": "stdout",
     "output_type": "stream",
     "text": [
      "Epoch 32, Validation Accuracy: 21.56%, Validation Loss: 4.735734\n"
     ]
    },
    {
     "name": "stderr",
     "output_type": "stream",
     "text": [
      "Epoch 33/50: 100%|██████████| 394/394 [00:06<00:00, 64.25it/s, Loss=1.0431]\n"
     ]
    },
    {
     "name": "stdout",
     "output_type": "stream",
     "text": [
      "Epoch 33, Validation Accuracy: 22.11%, Validation Loss: 4.873747\n"
     ]
    },
    {
     "name": "stderr",
     "output_type": "stream",
     "text": [
      "Epoch 34/50: 100%|██████████| 394/394 [00:05<00:00, 67.16it/s, Loss=0.6413]\n"
     ]
    },
    {
     "name": "stdout",
     "output_type": "stream",
     "text": [
      "Epoch 34, Validation Accuracy: 22.17%, Validation Loss: 5.059330\n"
     ]
    },
    {
     "name": "stderr",
     "output_type": "stream",
     "text": [
      "Epoch 35/50: 100%|██████████| 394/394 [00:05<00:00, 70.27it/s, Loss=1.4211]\n"
     ]
    },
    {
     "name": "stdout",
     "output_type": "stream",
     "text": [
      "Epoch 35, Validation Accuracy: 22.11%, Validation Loss: 4.776842\n"
     ]
    },
    {
     "name": "stderr",
     "output_type": "stream",
     "text": [
      "Epoch 36/50: 100%|██████████| 394/394 [00:05<00:00, 72.58it/s, Loss=0.9504]\n"
     ]
    },
    {
     "name": "stdout",
     "output_type": "stream",
     "text": [
      "Epoch 36, Validation Accuracy: 22.23%, Validation Loss: 5.135653\n"
     ]
    },
    {
     "name": "stderr",
     "output_type": "stream",
     "text": [
      "Epoch 37/50: 100%|██████████| 394/394 [00:05<00:00, 69.58it/s, Loss=0.6110]\n"
     ]
    },
    {
     "name": "stdout",
     "output_type": "stream",
     "text": [
      "Epoch 37, Validation Accuracy: 23.37%, Validation Loss: 5.157188\n"
     ]
    },
    {
     "name": "stderr",
     "output_type": "stream",
     "text": [
      "Epoch 38/50: 100%|██████████| 394/394 [00:05<00:00, 71.14it/s, Loss=1.0171]\n"
     ]
    },
    {
     "name": "stdout",
     "output_type": "stream",
     "text": [
      "Epoch 38, Validation Accuracy: 22.12%, Validation Loss: 5.493681\n"
     ]
    },
    {
     "name": "stderr",
     "output_type": "stream",
     "text": [
      "Epoch 39/50: 100%|██████████| 394/394 [00:05<00:00, 70.96it/s, Loss=0.6135]\n"
     ]
    },
    {
     "name": "stdout",
     "output_type": "stream",
     "text": [
      "Epoch 39, Validation Accuracy: 24.28%, Validation Loss: 4.983200\n"
     ]
    },
    {
     "name": "stderr",
     "output_type": "stream",
     "text": [
      "Epoch 40/50: 100%|██████████| 394/394 [00:05<00:00, 71.80it/s, Loss=0.7747]\n"
     ]
    },
    {
     "name": "stdout",
     "output_type": "stream",
     "text": [
      "Epoch 40, Validation Accuracy: 24.25%, Validation Loss: 5.101889\n"
     ]
    },
    {
     "name": "stderr",
     "output_type": "stream",
     "text": [
      "Epoch 41/50: 100%|██████████| 394/394 [00:05<00:00, 71.76it/s, Loss=0.6670]\n"
     ]
    },
    {
     "name": "stdout",
     "output_type": "stream",
     "text": [
      "Epoch 41, Validation Accuracy: 23.14%, Validation Loss: 5.643443\n"
     ]
    },
    {
     "name": "stderr",
     "output_type": "stream",
     "text": [
      "Epoch 42/50: 100%|██████████| 394/394 [00:05<00:00, 70.96it/s, Loss=0.4368]\n"
     ]
    },
    {
     "name": "stdout",
     "output_type": "stream",
     "text": [
      "Epoch 42, Validation Accuracy: 25.02%, Validation Loss: 5.365471\n"
     ]
    },
    {
     "name": "stderr",
     "output_type": "stream",
     "text": [
      "Epoch 43/50: 100%|██████████| 394/394 [00:05<00:00, 70.96it/s, Loss=0.4169]\n"
     ]
    },
    {
     "name": "stdout",
     "output_type": "stream",
     "text": [
      "Epoch 43, Validation Accuracy: 24.70%, Validation Loss: 5.532203\n"
     ]
    },
    {
     "name": "stderr",
     "output_type": "stream",
     "text": [
      "Epoch 44/50: 100%|██████████| 394/394 [00:05<00:00, 70.89it/s, Loss=0.5681]\n"
     ]
    },
    {
     "name": "stdout",
     "output_type": "stream",
     "text": [
      "Epoch 44, Validation Accuracy: 25.57%, Validation Loss: 5.285016\n"
     ]
    },
    {
     "name": "stderr",
     "output_type": "stream",
     "text": [
      "Epoch 45/50: 100%|██████████| 394/394 [00:05<00:00, 70.86it/s, Loss=0.5580]\n"
     ]
    },
    {
     "name": "stdout",
     "output_type": "stream",
     "text": [
      "Epoch 45, Validation Accuracy: 24.41%, Validation Loss: 6.053100\n"
     ]
    },
    {
     "name": "stderr",
     "output_type": "stream",
     "text": [
      "Epoch 46/50: 100%|██████████| 394/394 [00:05<00:00, 71.56it/s, Loss=0.3827]\n"
     ]
    },
    {
     "name": "stdout",
     "output_type": "stream",
     "text": [
      "Epoch 46, Validation Accuracy: 24.58%, Validation Loss: 6.308886\n"
     ]
    },
    {
     "name": "stderr",
     "output_type": "stream",
     "text": [
      "Epoch 47/50: 100%|██████████| 394/394 [00:05<00:00, 70.97it/s, Loss=0.2818]\n"
     ]
    },
    {
     "name": "stdout",
     "output_type": "stream",
     "text": [
      "Epoch 47, Validation Accuracy: 23.36%, Validation Loss: 6.568561\n"
     ]
    },
    {
     "name": "stderr",
     "output_type": "stream",
     "text": [
      "Epoch 48/50: 100%|██████████| 394/394 [00:05<00:00, 71.17it/s, Loss=0.6079]\n"
     ]
    },
    {
     "name": "stdout",
     "output_type": "stream",
     "text": [
      "Epoch 48, Validation Accuracy: 24.41%, Validation Loss: 6.322136\n"
     ]
    },
    {
     "name": "stderr",
     "output_type": "stream",
     "text": [
      "Epoch 49/50: 100%|██████████| 394/394 [00:05<00:00, 70.00it/s, Loss=0.4568]\n"
     ]
    },
    {
     "name": "stdout",
     "output_type": "stream",
     "text": [
      "Epoch 49, Validation Accuracy: 25.40%, Validation Loss: 6.472981\n"
     ]
    },
    {
     "name": "stderr",
     "output_type": "stream",
     "text": [
      "Epoch 50/50: 100%|██████████| 394/394 [00:05<00:00, 70.76it/s, Loss=0.4787]\n"
     ]
    },
    {
     "name": "stdout",
     "output_type": "stream",
     "text": [
      "Epoch 50, Validation Accuracy: 25.86%, Validation Loss: 5.995592\n"
     ]
    }
   ],
   "source": [
    "model_multilabel_classfication = CNN_Multilabel(task='multilabel_classification', num_classes=33).to(device)\n",
    "\n",
    "optimizer = torch.optim.Adam(model_multilabel_classfication.parameters(), lr=0.001)\n",
    "model_multilabel_classfication.train_model(optimizer, train_loader_multilabel, val_loader_multilabel, num_epochs=50, device=device)"
   ]
  }
 ],
 "metadata": {
  "kernelspec": {
   "display_name": "Python 3",
   "language": "python",
   "name": "python3"
  },
  "language_info": {
   "codemirror_mode": {
    "name": "ipython",
    "version": 3
   },
   "file_extension": ".py",
   "mimetype": "text/x-python",
   "name": "python",
   "nbconvert_exporter": "python",
   "pygments_lexer": "ipython3",
   "version": "3.12.7"
  }
 },
 "nbformat": 4,
 "nbformat_minor": 2
}
