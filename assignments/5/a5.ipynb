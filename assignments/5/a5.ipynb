{
 "cells": [
  {
   "cell_type": "code",
   "execution_count": 19,
   "metadata": {},
   "outputs": [],
   "source": [
    "import numpy as np\n",
    "import matplotlib.pyplot as plt\n",
    "from torch.utils.data import DataLoader\n",
    "import os\n",
    "import torch\n",
    "import torch.nn as nn\n",
    "from tqdm import tqdm\n",
    "from PIL import Image, ImageDraw, ImageFont\n",
    "from nltk.corpus import words\n",
    "\n",
    "import sys\n",
    "sys.path.append('./../../')\n",
    "from models.rnn.rnn import RNN, RNNDataset\n",
    "from models.ocr.ocr import OCRModel, OCRDataset"
   ]
  },
  {
   "cell_type": "markdown",
   "metadata": {},
   "source": [
    "## RNN"
   ]
  },
  {
   "cell_type": "code",
   "execution_count": 20,
   "metadata": {},
   "outputs": [],
   "source": [
    "def generate_bit_count_data(num_samples=100000, max_len=16):\n",
    "    data, labels = [], []\n",
    "    for _ in range(num_samples):\n",
    "        length = np.random.randint(1, max_len + 1)\n",
    "        sequence = np.random.randint(0, 2, length)\n",
    "        label = np.sum(sequence)\n",
    "        data.append(sequence)\n",
    "        labels.append(label)\n",
    "    return data, labels"
   ]
  },
  {
   "cell_type": "code",
   "execution_count": 21,
   "metadata": {},
   "outputs": [],
   "source": [
    "def evaluate(model, data_loader, criterion, device):\n",
    "    model.eval()\n",
    "    total_loss = 0\n",
    "    with torch.no_grad():\n",
    "        for sequences, labels, lengths in data_loader:\n",
    "            sequences, labels, lengths = sequences.to(device), labels.to(device), lengths.to(device)\n",
    "            outputs = model(sequences, lengths)\n",
    "            loss = criterion(outputs.squeeze(), labels.squeeze(-1))\n",
    "            total_loss += loss.item() * sequences.size(0)\n",
    "    return total_loss / len(data_loader.dataset)"
   ]
  },
  {
   "cell_type": "code",
   "execution_count": 22,
   "metadata": {},
   "outputs": [],
   "source": [
    "data, labels = generate_bit_count_data()\n",
    "train_size = int(0.8 * len(data))\n",
    "val_size = int(0.1 * len(data))\n",
    "\n",
    "train_data, val_data, test_data = data[:train_size], data[train_size:train_size + val_size], data[train_size + val_size:]\n",
    "train_labels, val_labels, test_labels = labels[:train_size], labels[train_size:train_size + val_size], labels[train_size + val_size:]\n",
    "\n",
    "train_dataset = RNNDataset(train_data, train_labels)\n",
    "val_dataset = RNNDataset(val_data, val_labels)\n",
    "test_dataset = RNNDataset(test_data, test_labels)\n",
    "\n",
    "batch_size = 64\n",
    "train_loader = DataLoader(train_dataset, batch_size=batch_size, shuffle=True)\n",
    "val_loader = DataLoader(val_dataset, batch_size=batch_size, shuffle=False)\n",
    "test_loader = DataLoader(test_dataset, batch_size=batch_size, shuffle=False)\n"
   ]
  },
  {
   "cell_type": "code",
   "execution_count": 23,
   "metadata": {},
   "outputs": [],
   "source": [
    "def train(model, train_loader, val_loader, criterion, optimizer, num_epochs, device):\n",
    "    for epoch in range(num_epochs):\n",
    "        model.train()\n",
    "        total_train_loss = 0\n",
    "        train_progress = tqdm(train_loader, desc=f\"Epoch [{epoch+1}/{num_epochs}]\")\n",
    "        \n",
    "        for sequences, labels, lengths in train_progress:\n",
    "            sequences, labels, lengths = sequences.to(device), labels.to(device), lengths.to(device)\n",
    "            outputs = model(sequences, lengths)\n",
    "            loss = criterion(outputs.squeeze(), labels.squeeze(-1))\n",
    "            optimizer.zero_grad()\n",
    "            loss.backward()\n",
    "            optimizer.step()\n",
    "            total_train_loss += loss.item() * sequences.size(0)\n",
    "            train_progress.set_postfix(loss=loss.item())\n",
    "        \n",
    "        train_loss = total_train_loss / len(train_loader.dataset)\n",
    "        val_loss = evaluate(model, val_loader, criterion, device)\n",
    "        \n",
    "        print(f\"Epoch [{epoch+1}/{num_epochs}], Train MAE: {train_loss:.4f}, Validation MAE: {val_loss:.4f}\")\n"
   ]
  },
  {
   "cell_type": "code",
   "execution_count": 24,
   "metadata": {},
   "outputs": [],
   "source": [
    "model = RNN(input_size=1, hidden_size=32, num_layers=1)\n",
    "criterion = nn.L1Loss()\n",
    "optimizer = torch.optim.Adam(model.parameters(), lr=0.001)\n",
    "device = torch.device(\"cuda\" if torch.cuda.is_available() else \"cpu\")\n",
    "model.to(device)\n",
    "num_epochs = 10"
   ]
  },
  {
   "cell_type": "code",
   "execution_count": 25,
   "metadata": {},
   "outputs": [],
   "source": [
    "def random_baseline_MAE(data_loader):\n",
    "    loss = 0\n",
    "    total = 0\n",
    "    for sequences, labels, lengths in data_loader:\n",
    "        for i in range(len(sequences)):\n",
    "            cur_pred = np.random.randint(0, lengths[i].item() + 1)\n",
    "            loss += np.abs(cur_pred - labels[i].item())\n",
    "            total += 1\n",
    "    return loss / total"
   ]
  },
  {
   "cell_type": "code",
   "execution_count": 26,
   "metadata": {},
   "outputs": [
    {
     "name": "stdout",
     "output_type": "stream",
     "text": [
      "Random Baseline MAE: 2.5217\n"
     ]
    }
   ],
   "source": [
    "print(f\"Random Baseline MAE: {random_baseline_MAE(val_loader)}\")"
   ]
  },
  {
   "cell_type": "code",
   "execution_count": 27,
   "metadata": {},
   "outputs": [
    {
     "name": "stderr",
     "output_type": "stream",
     "text": [
      "Epoch [1/10]:   0%|          | 0/1250 [00:00<?, ?it/s]"
     ]
    },
    {
     "name": "stderr",
     "output_type": "stream",
     "text": [
      "Epoch [1/10]: 100%|██████████| 1250/1250 [01:02<00:00, 19.99it/s, loss=0.0973]\n"
     ]
    },
    {
     "name": "stdout",
     "output_type": "stream",
     "text": [
      "Epoch [1/10], Train MAE: 0.5786, Validation MAE: 0.0996\n"
     ]
    },
    {
     "name": "stderr",
     "output_type": "stream",
     "text": [
      "Epoch [2/10]: 100%|██████████| 1250/1250 [01:02<00:00, 19.92it/s, loss=0.109] \n"
     ]
    },
    {
     "name": "stdout",
     "output_type": "stream",
     "text": [
      "Epoch [2/10], Train MAE: 0.1214, Validation MAE: 0.0891\n"
     ]
    },
    {
     "name": "stderr",
     "output_type": "stream",
     "text": [
      "Epoch [3/10]: 100%|██████████| 1250/1250 [00:50<00:00, 24.81it/s, loss=0.0339]\n"
     ]
    },
    {
     "name": "stdout",
     "output_type": "stream",
     "text": [
      "Epoch [3/10], Train MAE: 0.0987, Validation MAE: 0.0737\n"
     ]
    },
    {
     "name": "stderr",
     "output_type": "stream",
     "text": [
      "Epoch [4/10]: 100%|██████████| 1250/1250 [00:50<00:00, 24.81it/s, loss=0.155] \n"
     ]
    },
    {
     "name": "stdout",
     "output_type": "stream",
     "text": [
      "Epoch [4/10], Train MAE: 0.0838, Validation MAE: 0.3148\n"
     ]
    },
    {
     "name": "stderr",
     "output_type": "stream",
     "text": [
      "Epoch [5/10]: 100%|██████████| 1250/1250 [00:49<00:00, 25.03it/s, loss=0.0279]\n"
     ]
    },
    {
     "name": "stdout",
     "output_type": "stream",
     "text": [
      "Epoch [5/10], Train MAE: 0.0793, Validation MAE: 0.0340\n"
     ]
    },
    {
     "name": "stderr",
     "output_type": "stream",
     "text": [
      "Epoch [6/10]: 100%|██████████| 1250/1250 [00:50<00:00, 24.98it/s, loss=0.0408]\n"
     ]
    },
    {
     "name": "stdout",
     "output_type": "stream",
     "text": [
      "Epoch [6/10], Train MAE: 0.0741, Validation MAE: 0.0304\n"
     ]
    },
    {
     "name": "stderr",
     "output_type": "stream",
     "text": [
      "Epoch [7/10]: 100%|██████████| 1250/1250 [00:48<00:00, 25.61it/s, loss=0.0313]\n"
     ]
    },
    {
     "name": "stdout",
     "output_type": "stream",
     "text": [
      "Epoch [7/10], Train MAE: 0.0671, Validation MAE: 0.0615\n"
     ]
    },
    {
     "name": "stderr",
     "output_type": "stream",
     "text": [
      "Epoch [8/10]: 100%|██████████| 1250/1250 [00:49<00:00, 25.42it/s, loss=0.033] \n"
     ]
    },
    {
     "name": "stdout",
     "output_type": "stream",
     "text": [
      "Epoch [8/10], Train MAE: 0.0588, Validation MAE: 0.0352\n"
     ]
    },
    {
     "name": "stderr",
     "output_type": "stream",
     "text": [
      "Epoch [9/10]: 100%|██████████| 1250/1250 [00:49<00:00, 25.13it/s, loss=0.0957]\n"
     ]
    },
    {
     "name": "stdout",
     "output_type": "stream",
     "text": [
      "Epoch [9/10], Train MAE: 0.0634, Validation MAE: 0.1521\n"
     ]
    },
    {
     "name": "stderr",
     "output_type": "stream",
     "text": [
      "Epoch [10/10]: 100%|██████████| 1250/1250 [00:49<00:00, 25.15it/s, loss=0.0638]\n"
     ]
    },
    {
     "name": "stdout",
     "output_type": "stream",
     "text": [
      "Epoch [10/10], Train MAE: 0.0581, Validation MAE: 0.0322\n"
     ]
    }
   ],
   "source": [
    "train(model, train_loader, val_loader, criterion, optimizer, num_epochs, device)"
   ]
  },
  {
   "cell_type": "code",
   "execution_count": 28,
   "metadata": {},
   "outputs": [
    {
     "name": "stdout",
     "output_type": "stream",
     "text": [
      "Test MAE: 0.0318\n"
     ]
    }
   ],
   "source": [
    "test_loss = evaluate(model, test_loader, criterion, device)\n",
    "print(f\"Test MAE: {test_loss:.4f}\")"
   ]
  },
  {
   "cell_type": "code",
   "execution_count": 29,
   "metadata": {},
   "outputs": [],
   "source": [
    "def generate_out_of_distribution_data(start_len=1, end_len=32, samples_per_length=1000):\n",
    "    data, labels = [], []\n",
    "    for length in range(start_len, end_len + 1):\n",
    "        for _ in range(samples_per_length):\n",
    "            sequence = np.random.randint(0, 2, length)\n",
    "            label = np.sum(sequence)\n",
    "            data.append(sequence)\n",
    "            labels.append(label)\n",
    "    return data, labels"
   ]
  },
  {
   "cell_type": "code",
   "execution_count": 30,
   "metadata": {},
   "outputs": [
    {
     "data": {
      "image/png": "[encoded data removed]",
      "text/plain": [
       "<Figure size 1000x600 with 1 Axes>"
      ]
     },
     "metadata": {},
     "output_type": "display_data"
    }
   ],
   "source": [
    "gen_data, gen_labels = generate_out_of_distribution_data()\n",
    "lengths = list(range(1, 33))\n",
    "mae_per_length = []\n",
    "\n",
    "for length in lengths:\n",
    "    length_data = []\n",
    "    length_labels = []\n",
    "    for seq, label in zip(gen_data, gen_labels):\n",
    "        if len(seq) == length:\n",
    "            length_data.append(seq)\n",
    "            length_labels.append(label)\n",
    "    \n",
    "    length_dataset = RNNDataset(length_data, length_labels)\n",
    "    length_loader = DataLoader(length_dataset, batch_size=batch_size, shuffle=False)\n",
    "    mae = evaluate(model, length_loader, criterion, device)\n",
    "    mae_per_length.append(mae)\n",
    "\n",
    "plt.figure(figsize=(10, 6))\n",
    "plt.plot(lengths, mae_per_length, marker='o', color='b')\n",
    "plt.title('Model Generalization Across Sequence Lengths')\n",
    "plt.xlabel('Sequence Length')\n",
    "plt.ylabel('Mean Absolute Error')\n",
    "plt.grid(True)\n",
    "plt.savefig('./figures/RNN_generalization.png')\n",
    "plt.show()"
   ]
  },
  {
   "cell_type": "markdown",
   "metadata": {},
   "source": [
    "## OCR"
   ]
  },
  {
   "cell_type": "code",
   "execution_count": 31,
   "metadata": {},
   "outputs": [],
   "source": [
    "def generate_word_images(word_list, image_dir, image_size=(256, 64)):\n",
    "    if not os.path.exists(image_dir):\n",
    "        os.makedirs(image_dir)\n",
    "    for word in tqdm(word_list, desc=\"Generating Images\"):\n",
    "        img = Image.new('L', image_size, color=255)\n",
    "        draw = ImageDraw.Draw(img)\n",
    "        font = ImageFont.load_default()\n",
    "        font_size = 24\n",
    "        font = ImageFont.truetype(\"arial.ttf\", font_size)\n",
    "        bbox = draw.textbbox((0, 0), word, font=font)\n",
    "        x = (image_size[0] - (bbox[2] - bbox[0])) // 2\n",
    "        y = (image_size[1] - (bbox[3] - bbox[1])) // 2\n",
    "        draw.text((x, y), word, font=font, fill=0)\n",
    "        img.save(os.path.join(image_dir, f\"{word}.png\")) \n",
    "\n",
    "image_dir = \"./../../data/external/word_images\"\n",
    "# word_list = words.words()\n",
    "# word_list = list(set(word_list))\n",
    "# word_list = word_list[:100000]\n",
    "# generate_word_images(word_list, image_dir)"
   ]
  },
  {
   "cell_type": "code",
   "execution_count": 32,
   "metadata": {},
   "outputs": [],
   "source": [
    "def create_image_label_lists(image_dir):\n",
    "    image_paths = []\n",
    "    labels = []\n",
    "    for filename in os.listdir(image_dir):\n",
    "        if filename.endswith(\".png\"):\n",
    "            if ('-' in filename) or ('_' in filename):\n",
    "                continue\n",
    "            label = os.path.splitext(filename)[0]\n",
    "            image_paths.append(os.path.join(image_dir, filename))\n",
    "            labels.append(label)\n",
    "    return image_paths, labels"
   ]
  },
  {
   "cell_type": "code",
   "execution_count": 33,
   "metadata": {},
   "outputs": [
    {
     "name": "stdout",
     "output_type": "stream",
     "text": [
      "Max Word Length: 24\n"
     ]
    }
   ],
   "source": [
    "image_paths, labels = create_image_label_lists(image_dir)\n",
    "max_word_length = max(len(label) for label in labels)\n",
    "print(f\"Max Word Length: {max_word_length}\")\n",
    "\n",
    "image_paths_temp, labels_temp = np.array(image_paths), np.array(labels)\n",
    "idx = np.random.permutation(len(image_paths_temp))\n",
    "image_paths, labels = image_paths_temp[idx].tolist(), labels_temp[idx].tolist()\n",
    "\n",
    "train_size = int(0.8 * len(image_paths))\n",
    "val_size = int(0.1 * len(image_paths))\n",
    "test_size = len(image_paths) - train_size - val_size\n",
    "\n",
    "train_paths, val_paths, test_paths = image_paths[:train_size], image_paths[train_size:train_size + val_size], image_paths[train_size + val_size:]\n",
    "train_labels, val_labels, test_labels = labels[:train_size], labels[train_size:train_size + val_size], labels[train_size + val_size:]\n",
    "\n",
    "train_dataset = OCRDataset(train_paths, train_labels, max_length=max_word_length)\n",
    "val_dataset = OCRDataset(val_paths, val_labels, max_length=max_word_length)\n",
    "test_dataset = OCRDataset(test_paths, test_labels, max_length=max_word_length)\n",
    "\n",
    "batch_size = 64\n",
    "train_loader = DataLoader(train_dataset, batch_size=batch_size, shuffle=True)\n",
    "val_loader = DataLoader(val_dataset, batch_size=batch_size, shuffle=False)\n",
    "test_loader = DataLoader(test_dataset, batch_size=batch_size, shuffle=False)"
   ]
  },
  {
   "cell_type": "code",
   "execution_count": 34,
   "metadata": {},
   "outputs": [],
   "source": [
    "def decode_label(one_hot_encoded):\n",
    "    char_map = \"@ABCDEFGHIJKLMNOPQRSTUVWXYZabcdefghijklmnopqrstuvwxyz\"\n",
    "    decoded = \"\"\n",
    "    for i in range(one_hot_encoded.shape[0]):\n",
    "        idx = torch.argmax(one_hot_encoded[i]).item()\n",
    "        if idx == 0:\n",
    "            break\n",
    "        decoded += char_map[idx]\n",
    "    return decoded"
   ]
  },
  {
   "cell_type": "code",
   "execution_count": 35,
   "metadata": {},
   "outputs": [],
   "source": [
    "def get_weights():\n",
    "    weigths = torch.ones(53, dtype=torch.float)\n",
    "    char_map = \"@ABCDEFGHIJKLMNOPQRSTUVWXYZabcdefghijklmnopqrstuvwxyz\"\n",
    "    weigths[0] = 0.2\n",
    "    return weigths"
   ]
  },
  {
   "cell_type": "code",
   "execution_count": 36,
   "metadata": {},
   "outputs": [],
   "source": [
    "device = torch.device(\"cuda\" if torch.cuda.is_available() else \"cpu\")\n",
    "model = OCRModel(num_classes=53, max_length=max_word_length).to(device)\n",
    "weigth = get_weights().to(device)\n",
    "criterion = nn.CrossEntropyLoss(weight=weigth)\n",
    "optimizer = torch.optim.Adam(model.parameters(), lr=0.001)"
   ]
  },
  {
   "cell_type": "code",
   "execution_count": 37,
   "metadata": {},
   "outputs": [],
   "source": [
    "def evaluate(model, data_loader, criterion, device, print_output=False):\n",
    "    model.eval()\n",
    "    total_loss = 0\n",
    "    correct_chars = 0\n",
    "    total_chars = 0\n",
    "    with torch.no_grad():\n",
    "        for images, labels in data_loader:\n",
    "            images, labels = images.to(device), labels.to(device)\n",
    "            outputs = model(images)\n",
    "            outputs = outputs.permute(0, 2, 1)\n",
    "            labels = labels.permute(0, 2, 1)\n",
    "            loss = criterion(outputs, labels)\n",
    "            total_loss += loss.item()\n",
    "            outputs = outputs.permute(0, 2, 1)\n",
    "            labels = labels.permute(0, 2, 1)\n",
    "            for i in range(len(labels)):\n",
    "                predicted_label = decode_label(outputs[i])\n",
    "                true_label = decode_label(labels[i])\n",
    "                if print_output and i==0:\n",
    "                    print(true_label, \"<-- True Label\")\n",
    "                    print(predicted_label, \"<-- Predicted Label\")\n",
    "                for j in range(len(true_label)):\n",
    "                    if j < len(predicted_label) and predicted_label[j] == true_label[j]:\n",
    "                        correct_chars += 1\n",
    "                    total_chars += 1\n",
    "    avg_correct_chars = correct_chars / total_chars\n",
    "    total_loss = total_loss / len(data_loader)\n",
    "    return total_loss, avg_correct_chars"
   ]
  },
  {
   "cell_type": "code",
   "execution_count": 38,
   "metadata": {},
   "outputs": [],
   "source": [
    "def train(model, train_loader, val_loader, criterion, optimizer, num_epochs=10, device='cuda'):\n",
    "    model.to(device)\n",
    "    for epoch in range(num_epochs):\n",
    "        model.train()\n",
    "        train_loss = 0\n",
    "        train_loader_tqdm = tqdm(train_loader, desc=f\"Epoch [{epoch+1}/{num_epochs}] - Training\")\n",
    "        \n",
    "        for images, labels in train_loader_tqdm:\n",
    "            images, labels = images.to(device), labels.to(device)\n",
    "            optimizer.zero_grad()\n",
    "            outputs = model(images)\n",
    "            outputs = outputs.permute(0, 2, 1)\n",
    "            labels = labels.permute(0, 2, 1)\n",
    "            loss = criterion(outputs, labels)\n",
    "            loss.backward()\n",
    "            optimizer.step()\n",
    "            train_loss += loss.item()\n",
    "        \n",
    "        train_loss /= len(train_loader)\n",
    "        val_loss, avg_correct_chars = evaluate(model, val_loader, criterion, device)\n",
    "        print(f\"Epoch [{epoch+1}/{num_epochs}], Train Loss: {train_loss:.4f}, Val Loss: {val_loss:.4f}, ANCC in Val: {avg_correct_chars:.4f}\")"
   ]
  },
  {
   "cell_type": "code",
   "execution_count": 39,
   "metadata": {},
   "outputs": [],
   "source": [
    "def random_baseline_accuracy(labels):\n",
    "    correct_chars = 0\n",
    "    total_chars = 0\n",
    "    for label in labels:\n",
    "        predicted_label = ''.join(np.random.choice(list('ABCDEFGHIJKLMNOPQRSTUVWXYZabcdefghijklmnopqrstuvwxyz'), len(label)))\n",
    "        for i in range(len(label)):\n",
    "            if predicted_label[i] == label[i]:\n",
    "                correct_chars += 1\n",
    "            total_chars += 1\n",
    "    return correct_chars / total_chars"
   ]
  },
  {
   "cell_type": "code",
   "execution_count": 40,
   "metadata": {},
   "outputs": [
    {
     "name": "stdout",
     "output_type": "stream",
     "text": [
      "Random Baseline Accuracy: 0.0202\n"
     ]
    }
   ],
   "source": [
    "random_accuracy = random_baseline_accuracy(val_labels)\n",
    "print(f\"Random Baseline Accuracy: {random_accuracy:.4f}\")"
   ]
  },
  {
   "cell_type": "code",
   "execution_count": 41,
   "metadata": {},
   "outputs": [
    {
     "name": "stderr",
     "output_type": "stream",
     "text": [
      "Epoch [1/10] - Training: 100%|██████████| 1247/1247 [02:47<00:00,  7.43it/s]\n"
     ]
    },
    {
     "name": "stdout",
     "output_type": "stream",
     "text": [
      "Epoch [1/10], Train Loss: 1.0879, Val Loss: 0.8521, ANCC in Val: 0.3217\n"
     ]
    },
    {
     "name": "stderr",
     "output_type": "stream",
     "text": [
      "Epoch [2/10] - Training: 100%|██████████| 1247/1247 [02:44<00:00,  7.60it/s]\n"
     ]
    },
    {
     "name": "stdout",
     "output_type": "stream",
     "text": [
      "Epoch [2/10], Train Loss: 0.6236, Val Loss: 0.3929, ANCC in Val: 0.6821\n"
     ]
    },
    {
     "name": "stderr",
     "output_type": "stream",
     "text": [
      "Epoch [3/10] - Training: 100%|██████████| 1247/1247 [02:28<00:00,  8.38it/s]\n"
     ]
    },
    {
     "name": "stdout",
     "output_type": "stream",
     "text": [
      "Epoch [3/10], Train Loss: 0.3292, Val Loss: 0.2142, ANCC in Val: 0.8322\n"
     ]
    },
    {
     "name": "stderr",
     "output_type": "stream",
     "text": [
      "Epoch [4/10] - Training: 100%|██████████| 1247/1247 [02:23<00:00,  8.72it/s]\n"
     ]
    },
    {
     "name": "stdout",
     "output_type": "stream",
     "text": [
      "Epoch [4/10], Train Loss: 0.1996, Val Loss: 0.1433, ANCC in Val: 0.8856\n"
     ]
    },
    {
     "name": "stderr",
     "output_type": "stream",
     "text": [
      "Epoch [5/10] - Training: 100%|██████████| 1247/1247 [02:28<00:00,  8.38it/s]\n"
     ]
    },
    {
     "name": "stdout",
     "output_type": "stream",
     "text": [
      "Epoch [5/10], Train Loss: 0.1435, Val Loss: 0.0987, ANCC in Val: 0.9227\n"
     ]
    },
    {
     "name": "stderr",
     "output_type": "stream",
     "text": [
      "Epoch [6/10] - Training: 100%|██████████| 1247/1247 [02:23<00:00,  8.69it/s]\n"
     ]
    },
    {
     "name": "stdout",
     "output_type": "stream",
     "text": [
      "Epoch [6/10], Train Loss: 0.1108, Val Loss: 0.0720, ANCC in Val: 0.9442\n"
     ]
    },
    {
     "name": "stderr",
     "output_type": "stream",
     "text": [
      "Epoch [7/10] - Training: 100%|██████████| 1247/1247 [02:37<00:00,  7.90it/s]\n"
     ]
    },
    {
     "name": "stdout",
     "output_type": "stream",
     "text": [
      "Epoch [7/10], Train Loss: 0.0912, Val Loss: 0.0810, ANCC in Val: 0.9391\n"
     ]
    },
    {
     "name": "stderr",
     "output_type": "stream",
     "text": [
      "Epoch [8/10] - Training: 100%|██████████| 1247/1247 [02:46<00:00,  7.49it/s]\n"
     ]
    },
    {
     "name": "stdout",
     "output_type": "stream",
     "text": [
      "Epoch [8/10], Train Loss: 0.0802, Val Loss: 0.0550, ANCC in Val: 0.9574\n"
     ]
    },
    {
     "name": "stderr",
     "output_type": "stream",
     "text": [
      "Epoch [9/10] - Training: 100%|██████████| 1247/1247 [03:08<00:00,  6.61it/s]\n"
     ]
    },
    {
     "name": "stdout",
     "output_type": "stream",
     "text": [
      "Epoch [9/10], Train Loss: 0.0717, Val Loss: 0.0529, ANCC in Val: 0.9589\n"
     ]
    },
    {
     "name": "stderr",
     "output_type": "stream",
     "text": [
      "Epoch [10/10] - Training: 100%|██████████| 1247/1247 [02:55<00:00,  7.11it/s]\n"
     ]
    },
    {
     "name": "stdout",
     "output_type": "stream",
     "text": [
      "Epoch [10/10], Train Loss: 0.0674, Val Loss: 0.0472, ANCC in Val: 0.9628\n"
     ]
    }
   ],
   "source": [
    "train(model, train_loader, val_loader, criterion, optimizer, num_epochs=10, device=device)"
   ]
  },
  {
   "cell_type": "code",
   "execution_count": 42,
   "metadata": {},
   "outputs": [
    {
     "name": "stdout",
     "output_type": "stream",
     "text": [
      "obsequent <-- True Label\n",
      "obsequent <-- Predicted Label\n",
      "prereceipt <-- True Label\n",
      "prereceipt <-- Predicted Label\n",
      "devicefulness <-- True Label\n",
      "dewicefulness <-- Predicted Label\n",
      "overheap <-- True Label\n",
      "overheap <-- Predicted Label\n",
      "Stevia <-- True Label\n",
      "stevia <-- Predicted Label\n",
      "stoic <-- True Label\n",
      "stoic <-- Predicted Label\n",
      "overmatter <-- True Label\n",
      "overmatter <-- Predicted Label\n",
      "brunet <-- True Label\n",
      "brunet <-- Predicted Label\n",
      "catastrophically <-- True Label\n",
      "catsctrophically <-- Predicted Label\n",
      "gamotropism <-- True Label\n",
      "gamotropism <-- Predicted Label\n",
      "Leptorchis <-- True Label\n",
      "Leptorchis <-- Predicted Label\n",
      "Jarvis <-- True Label\n",
      "Jarvis <-- Predicted Label\n",
      "uncomputed <-- True Label\n",
      "uncomputed <-- Predicted Label\n",
      "nonself <-- True Label\n",
      "nonself <-- Predicted Label\n",
      "pliancy <-- True Label\n",
      "pllancy <-- Predicted Label\n",
      "antodontalgic <-- True Label\n",
      "antodontalgic <-- Predicted Label\n",
      "personalize <-- True Label\n",
      "personalize <-- Predicted Label\n",
      "pointlessly <-- True Label\n",
      "pointlessly <-- Predicted Label\n",
      "epithumetic <-- True Label\n",
      "epithumetic <-- Predicted Label\n",
      "inhibitory <-- True Label\n",
      "inhibitory <-- Predicted Label\n",
      "paleographist <-- True Label\n",
      "paleographis <-- Predicted Label\n",
      "condition <-- True Label\n",
      "condition <-- Predicted Label\n",
      "erythrin <-- True Label\n",
      "erythrin <-- Predicted Label\n",
      "normalness <-- True Label\n",
      "normalness <-- Predicted Label\n",
      "breakbones <-- True Label\n",
      "breakbones <-- Predicted Label\n",
      "amuyong <-- True Label\n",
      "amuyong <-- Predicted Label\n",
      "choppy <-- True Label\n",
      "choppy <-- Predicted Label\n",
      "Drupaceae <-- True Label\n",
      "Drupaceae <-- Predicted Label\n",
      "unattested <-- True Label\n",
      "unattested <-- Predicted Label\n",
      "bicarbonate <-- True Label\n",
      "bicarbonate <-- Predicted Label\n",
      "unparriable <-- True Label\n",
      "unparriable <-- Predicted Label\n",
      "satirist <-- True Label\n",
      "satifist <-- Predicted Label\n",
      "prescript <-- True Label\n",
      "prescript <-- Predicted Label\n",
      "deviationism <-- True Label\n",
      "deviationism <-- Predicted Label\n",
      "stunsail <-- True Label\n",
      "stunsail <-- Predicted Label\n",
      "valeryl <-- True Label\n",
      "valeryl <-- Predicted Label\n",
      "Chumashan <-- True Label\n",
      "Chumasken <-- Predicted Label\n",
      "jurel <-- True Label\n",
      "jurel <-- Predicted Label\n",
      "shippy <-- True Label\n",
      "shippy <-- Predicted Label\n",
      "photoperceptive <-- True Label\n",
      "photoperceptipe <-- Predicted Label\n",
      "ghostified <-- True Label\n",
      "ghostified <-- Predicted Label\n",
      "coff <-- True Label\n",
      "coff <-- Predicted Label\n",
      "mattulla <-- True Label\n",
      "mattulla <-- Predicted Label\n",
      "benzazole <-- True Label\n",
      "benzazode <-- Predicted Label\n",
      "Richard <-- True Label\n",
      "Richard <-- Predicted Label\n",
      "retinaculate <-- True Label\n",
      "retinaculate <-- Predicted Label\n",
      "March <-- True Label\n",
      "march <-- Predicted Label\n",
      "phylon <-- True Label\n",
      "phylon <-- Predicted Label\n",
      "husk <-- True Label\n",
      "husk <-- Predicted Label\n",
      "incommiscible <-- True Label\n",
      "incommissible <-- Predicted Label\n",
      "chkalik <-- True Label\n",
      "chkalik <-- Predicted Label\n",
      "tumored <-- True Label\n",
      "tumored <-- Predicted Label\n",
      "courteous <-- True Label\n",
      "courteous <-- Predicted Label\n",
      "releap <-- True Label\n",
      "releap <-- Predicted Label\n",
      "polygamical <-- True Label\n",
      "polygamical <-- Predicted Label\n",
      "midfacial <-- True Label\n",
      "midfacial <-- Predicted Label\n",
      "swillbowl <-- True Label\n",
      "swillbowk <-- Predicted Label\n",
      "inextricable <-- True Label\n",
      "inextricable <-- Predicted Label\n",
      "rangeless <-- True Label\n",
      "rangeless <-- Predicted Label\n",
      "paleoecologist <-- True Label\n",
      "paleoecologist <-- Predicted Label\n",
      "aminoacetal <-- True Label\n",
      "aminoacelal <-- Predicted Label\n",
      "decasyllabic <-- True Label\n",
      "decasyllabic <-- Predicted Label\n",
      "sinistrorse <-- True Label\n",
      "sinistrorse <-- Predicted Label\n",
      "sequestrator <-- True Label\n",
      "sequestrator <-- Predicted Label\n",
      "bilateralism <-- True Label\n",
      "bilateralism <-- Predicted Label\n",
      "exomphalus <-- True Label\n",
      "exomphalus <-- Predicted Label\n",
      "savola <-- True Label\n",
      "savola <-- Predicted Label\n",
      "hissing <-- True Label\n",
      "hissing <-- Predicted Label\n",
      "heresiographer <-- True Label\n",
      "heresiographer <-- Predicted Label\n",
      "Pithoigia <-- True Label\n",
      "Pithoigia <-- Predicted Label\n",
      "equivaluer <-- True Label\n",
      "equivaluer <-- Predicted Label\n",
      "preadherence <-- True Label\n",
      "preadherence <-- Predicted Label\n",
      "introject <-- True Label\n",
      "introject <-- Predicted Label\n",
      "uneffectible <-- True Label\n",
      "uneffectible <-- Predicted Label\n",
      "hysterodynia <-- True Label\n",
      "hysterodydia <-- Predicted Label\n",
      "stigmarian <-- True Label\n",
      "stigmarian <-- Predicted Label\n",
      "midautumn <-- True Label\n",
      "midautumn <-- Predicted Label\n",
      "scrag <-- True Label\n",
      "scrag <-- Predicted Label\n",
      "pulicose <-- True Label\n",
      "pulicose <-- Predicted Label\n",
      "nignay <-- True Label\n",
      "nignay <-- Predicted Label\n",
      "Ganymede <-- True Label\n",
      "Gayymedee <-- Predicted Label\n",
      "consecutively <-- True Label\n",
      "consecutively <-- Predicted Label\n",
      "plastin <-- True Label\n",
      "plastin <-- Predicted Label\n",
      "counternoise <-- True Label\n",
      "counternoise <-- Predicted Label\n",
      "snaillike <-- True Label\n",
      "shaillike <-- Predicted Label\n",
      "hilariously <-- True Label\n",
      "hilariously <-- Predicted Label\n",
      "vizierate <-- True Label\n",
      "vizierate <-- Predicted Label\n",
      "delusionist <-- True Label\n",
      "delusionist <-- Predicted Label\n",
      "protorosaur <-- True Label\n",
      "protorosaur <-- Predicted Label\n",
      "discursativeness <-- True Label\n",
      "discorsativeness <-- Predicted Label\n",
      "precognitive <-- True Label\n",
      "precognitive <-- Predicted Label\n",
      "oilproofing <-- True Label\n",
      "dipproofing <-- Predicted Label\n",
      "historicodogmatic <-- True Label\n",
      "iitcctiodoogharic <-- Predicted Label\n",
      "tauricide <-- True Label\n",
      "tauricide <-- Predicted Label\n",
      "ergophile <-- True Label\n",
      "ergophile <-- Predicted Label\n",
      "epicormic <-- True Label\n",
      "epicormic <-- Predicted Label\n",
      "Bucerotes <-- True Label\n",
      "Bucerotes <-- Predicted Label\n",
      "concause <-- True Label\n",
      "concause <-- Predicted Label\n",
      "Orontium <-- True Label\n",
      "Crontium <-- Predicted Label\n",
      "subglobulose <-- True Label\n",
      "subglobulose <-- Predicted Label\n",
      "landbook <-- True Label\n",
      "landbook <-- Predicted Label\n",
      "chortler <-- True Label\n",
      "chorfler <-- Predicted Label\n",
      "verbid <-- True Label\n",
      "verbid <-- Predicted Label\n",
      "bemotto <-- True Label\n",
      "bemotto <-- Predicted Label\n",
      "tunner <-- True Label\n",
      "tunner <-- Predicted Label\n",
      "pantaloonery <-- True Label\n",
      "pantaloonery <-- Predicted Label\n",
      "physiqued <-- True Label\n",
      "physipued <-- Predicted Label\n",
      "Malacostraca <-- True Label\n",
      "Malacostraca <-- Predicted Label\n",
      "Diaspidinae <-- True Label\n",
      "Diaspidinae <-- Predicted Label\n",
      "Asclepius <-- True Label\n",
      "wsclepius <-- Predicted Label\n",
      "usefulness <-- True Label\n",
      "usefulness <-- Predicted Label\n",
      "fashionize <-- True Label\n",
      "fashionize <-- Predicted Label\n",
      "oratorially <-- True Label\n",
      "oratorially <-- Predicted Label\n",
      "necrotic <-- True Label\n",
      "necrotic <-- Predicted Label\n",
      "illapsive <-- True Label\n",
      "illapsive <-- Predicted Label\n",
      "Manchesterdom <-- True Label\n",
      "Manchesterdum <-- Predicted Label\n",
      "perivaginitis <-- True Label\n",
      "perivaginitis <-- Predicted Label\n",
      "conspiracy <-- True Label\n",
      "conspiracy <-- Predicted Label\n",
      "blanket <-- True Label\n",
      "blanket <-- Predicted Label\n",
      "unobjective <-- True Label\n",
      "unobjective <-- Predicted Label\n",
      "anthophagous <-- True Label\n",
      "anthophagous <-- Predicted Label\n",
      "bache <-- True Label\n",
      "bache <-- Predicted Label\n",
      "admonitor <-- True Label\n",
      "admonitor <-- Predicted Label\n",
      "taupou <-- True Label\n",
      "taupoo <-- Predicted Label\n",
      "Michigan <-- True Label\n",
      "Michigan <-- Predicted Label\n",
      "lavenite <-- True Label\n",
      "lavenite <-- Predicted Label\n",
      "integrant <-- True Label\n",
      "integrant <-- Predicted Label\n",
      "papistically <-- True Label\n",
      "papistically <-- Predicted Label\n",
      "grimme <-- True Label\n",
      "grimme <-- Predicted Label\n",
      "commissionership <-- True Label\n",
      "commissibnership <-- Predicted Label\n",
      "electrotrephine <-- True Label\n",
      "electrotrephine <-- Predicted Label\n",
      "northeast <-- True Label\n",
      "northeast <-- Predicted Label\n",
      "umptekite <-- True Label\n",
      "umptekite <-- Predicted Label\n",
      "Flossie <-- True Label\n",
      "Fiossie <-- Predicted Label\n",
      "permuter <-- True Label\n",
      "permuter <-- Predicted Label\n",
      "overskirt <-- True Label\n",
      "overskirt <-- Predicted Label\n",
      "sware <-- True Label\n",
      "sware <-- Predicted Label\n",
      "harakeke <-- True Label\n",
      "harakeke <-- Predicted Label\n",
      "hemignathous <-- True Label\n",
      "hemignathous <-- Predicted Label\n",
      "pickpole <-- True Label\n",
      "picppole <-- Predicted Label\n",
      "irreversible <-- True Label\n",
      "irreversible <-- Predicted Label\n",
      "pipette <-- True Label\n",
      "pipette <-- Predicted Label\n",
      "oscillogram <-- True Label\n",
      "oscillogram <-- Predicted Label\n",
      "semicolon <-- True Label\n",
      "semicolon <-- Predicted Label\n",
      "savour <-- True Label\n",
      "sawour <-- Predicted Label\n",
      "chouette <-- True Label\n",
      "chouette <-- Predicted Label\n",
      "cobleman <-- True Label\n",
      "cobleman <-- Predicted Label\n",
      "provisionment <-- True Label\n",
      "provisionment <-- Predicted Label\n",
      "beekeeper <-- True Label\n",
      "beekeeper <-- Predicted Label\n",
      "hercogamy <-- True Label\n",
      "hercogamy <-- Predicted Label\n",
      "pourpiece <-- True Label\n",
      "pourpiece <-- Predicted Label\n",
      "irredressibility <-- True Label\n",
      "irrecressibility <-- Predicted Label\n",
      "Schizophragma <-- True Label\n",
      "Schizophramaa <-- Predicted Label\n",
      "woodsilver <-- True Label\n",
      "woodsilker <-- Predicted Label\n",
      "keratoglossus <-- True Label\n",
      "keratoglossus <-- Predicted Label\n",
      "comprehendible <-- True Label\n",
      "comprehendible <-- Predicted Label\n",
      "Test Loss: 0.0459, ANCC in Test: 0.9636\n"
     ]
    }
   ],
   "source": [
    "test_loss, avg_correct_chars = evaluate(model, test_loader, criterion, device, print_output=True)\n",
    "print(f\"Test Loss: {test_loss:.4f}, ANCC in Test: {avg_correct_chars:.4f}\")"
   ]
  }
 ],
 "metadata": {
  "kernelspec": {
   "display_name": "Python 3",
   "language": "python",
   "name": "python3"
  },
  "language_info": {
   "codemirror_mode": {
    "name": "ipython",
    "version": 3
   },
   "file_extension": ".py",
   "mimetype": "text/x-python",
   "name": "python",
   "nbconvert_exporter": "python",
   "pygments_lexer": "ipython3",
   "version": "3.12.7"
  }
 },
 "nbformat": 4,
 "nbformat_minor": 2
}
