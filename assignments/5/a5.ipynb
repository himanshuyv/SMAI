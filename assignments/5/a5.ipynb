{
 "cells": [
  {
   "cell_type": "code",
   "execution_count": 1,
   "metadata": {},
   "outputs": [],
   "source": [
    "import numpy as np\n",
    "import matplotlib.pyplot as plt\n",
    "from torch.utils.data import DataLoader\n",
    "import os\n",
    "import torch\n",
    "import torch.nn as nn\n",
    "from tqdm import tqdm\n",
    "from PIL import Image, ImageDraw, ImageFont\n",
    "from nltk.corpus import words\n",
    "\n",
    "import sys\n",
    "sys.path.append('./../../')\n",
    "from models.rnn.rnn import BitCounterRNN, BitCountingDataset, collate_fn_rnn\n",
    "from models.ocr.ocr import OCRModel, OCRDataset"
   ]
  },
  {
   "cell_type": "markdown",
   "metadata": {},
   "source": [
    "## RNN"
   ]
  },
  {
   "cell_type": "code",
   "execution_count": 2,
   "metadata": {},
   "outputs": [],
   "source": [
    "def generate_bit_count_data(num_samples=100000, max_len=16):\n",
    "    data, labels = [], []\n",
    "    for _ in range(num_samples):\n",
    "        length = np.random.randint(1, max_len + 1)\n",
    "        sequence = np.random.randint(0, 2, length)\n",
    "        label = np.sum(sequence)\n",
    "        data.append(sequence)\n",
    "        labels.append(label)\n",
    "    return data, labels"
   ]
  },
  {
   "cell_type": "code",
   "execution_count": 3,
   "metadata": {},
   "outputs": [],
   "source": [
    "def evaluate(model, data_loader, criterion, device):\n",
    "    model.eval()\n",
    "    total_loss = 0\n",
    "    with torch.no_grad():\n",
    "        for sequences, labels, lengths in data_loader:\n",
    "            sequences, labels, lengths = sequences.to(device), labels.to(device), lengths.to(device)\n",
    "            outputs = model(sequences, lengths)\n",
    "            loss = criterion(outputs.squeeze(), labels.squeeze(-1))\n",
    "            total_loss += loss.item() * sequences.size(0)\n",
    "    return total_loss / len(data_loader.dataset)"
   ]
  },
  {
   "cell_type": "code",
   "execution_count": 4,
   "metadata": {},
   "outputs": [],
   "source": [
    "data, labels = generate_bit_count_data()\n",
    "train_size = int(0.8 * len(data))\n",
    "val_size = int(0.1 * len(data))\n",
    "\n",
    "train_data, val_data, test_data = data[:train_size], data[train_size:train_size + val_size], data[train_size + val_size:]\n",
    "train_labels, val_labels, test_labels = labels[:train_size], labels[train_size:train_size + val_size], labels[train_size + val_size:]\n",
    "\n",
    "train_dataset = BitCountingDataset(train_data, train_labels)\n",
    "val_dataset = BitCountingDataset(val_data, val_labels)\n",
    "test_dataset = BitCountingDataset(test_data, test_labels)\n",
    "\n",
    "batch_size = 64\n",
    "train_loader = DataLoader(train_dataset, batch_size=batch_size, shuffle=True, collate_fn=collate_fn_rnn)\n",
    "val_loader = DataLoader(val_dataset, batch_size=batch_size, shuffle=False, collate_fn=collate_fn_rnn)\n",
    "test_loader = DataLoader(test_dataset, batch_size=batch_size, shuffle=False, collate_fn=collate_fn_rnn)\n"
   ]
  },
  {
   "cell_type": "code",
   "execution_count": 5,
   "metadata": {},
   "outputs": [],
   "source": [
    "def train(model, train_loader, val_loader, criterion, optimizer, num_epochs, device):\n",
    "    for epoch in range(num_epochs):\n",
    "        model.train()\n",
    "        total_train_loss = 0\n",
    "        train_progress = tqdm(train_loader, desc=f\"Epoch [{epoch+1}/{num_epochs}]\")\n",
    "        \n",
    "        for sequences, labels, lengths in train_progress:\n",
    "            sequences, labels, lengths = sequences.to(device), labels.to(device), lengths.to(device)\n",
    "            outputs = model(sequences, lengths)\n",
    "            loss = criterion(outputs.squeeze(), labels.squeeze(-1))\n",
    "            optimizer.zero_grad()\n",
    "            loss.backward()\n",
    "            optimizer.step()\n",
    "            total_train_loss += loss.item() * sequences.size(0)\n",
    "            train_progress.set_postfix(loss=loss.item())\n",
    "        \n",
    "        train_loss = total_train_loss / len(train_loader.dataset)\n",
    "        val_loss = evaluate(model, val_loader, criterion, device)\n",
    "        \n",
    "        print(f\"Epoch [{epoch+1}/{num_epochs}], Train Loss: {train_loss:.4f}, Validation Loss: {val_loss:.4f}\")\n"
   ]
  },
  {
   "cell_type": "code",
   "execution_count": 6,
   "metadata": {},
   "outputs": [],
   "source": [
    "model = BitCounterRNN(input_size=1, hidden_size=32, num_layers=1)\n",
    "criterion = nn.L1Loss()\n",
    "optimizer = torch.optim.Adam(model.parameters(), lr=0.001)\n",
    "device = torch.device(\"cuda\" if torch.cuda.is_available() else \"cpu\")\n",
    "model.to(device)\n",
    "num_epochs = 10"
   ]
  },
  {
   "cell_type": "code",
   "execution_count": 7,
   "metadata": {},
   "outputs": [],
   "source": [
    "def random_baseline(data_loader):\n",
    "    total_loss = 0\n",
    "    for sequences, labels, lengths in data_loader:\n",
    "        total_loss += torch.abs(torch.sum(sequences, dim=1) - labels.squeeze(-1)).sum().item()\n",
    "    return total_loss / len(data_loader.dataset)"
   ]
  },
  {
   "cell_type": "code",
   "execution_count": 8,
   "metadata": {},
   "outputs": [
    {
     "name": "stdout",
     "output_type": "stream",
     "text": [
      "Random Baseline MAE: 193.4052\n"
     ]
    }
   ],
   "source": [
    "print(f\"Random Baseline MAE: {random_baseline(val_loader)}\")"
   ]
  },
  {
   "cell_type": "code",
   "execution_count": 9,
   "metadata": {},
   "outputs": [
    {
     "name": "stderr",
     "output_type": "stream",
     "text": [
      "Epoch [1/10]: 100%|██████████| 1250/1250 [00:21<00:00, 58.49it/s, loss=0.0844]\n"
     ]
    },
    {
     "name": "stdout",
     "output_type": "stream",
     "text": [
      "Epoch [1/10], Train Loss: 0.5281, Validation Loss: 0.1128\n"
     ]
    },
    {
     "name": "stderr",
     "output_type": "stream",
     "text": [
      "Epoch [2/10]: 100%|██████████| 1250/1250 [00:18<00:00, 66.79it/s, loss=0.0572]\n"
     ]
    },
    {
     "name": "stdout",
     "output_type": "stream",
     "text": [
      "Epoch [2/10], Train Loss: 0.0905, Validation Loss: 0.0814\n"
     ]
    },
    {
     "name": "stderr",
     "output_type": "stream",
     "text": [
      "Epoch [3/10]: 100%|██████████| 1250/1250 [00:17<00:00, 70.65it/s, loss=0.0368]\n"
     ]
    },
    {
     "name": "stdout",
     "output_type": "stream",
     "text": [
      "Epoch [3/10], Train Loss: 0.0803, Validation Loss: 0.1035\n"
     ]
    },
    {
     "name": "stderr",
     "output_type": "stream",
     "text": [
      "Epoch [4/10]: 100%|██████████| 1250/1250 [00:17<00:00, 72.44it/s, loss=0.219] \n"
     ]
    },
    {
     "name": "stdout",
     "output_type": "stream",
     "text": [
      "Epoch [4/10], Train Loss: 0.0736, Validation Loss: 0.1874\n"
     ]
    },
    {
     "name": "stderr",
     "output_type": "stream",
     "text": [
      "Epoch [5/10]: 100%|██████████| 1250/1250 [00:16<00:00, 73.71it/s, loss=0.0629]\n"
     ]
    },
    {
     "name": "stdout",
     "output_type": "stream",
     "text": [
      "Epoch [5/10], Train Loss: 0.0746, Validation Loss: 0.0554\n"
     ]
    },
    {
     "name": "stderr",
     "output_type": "stream",
     "text": [
      "Epoch [6/10]: 100%|██████████| 1250/1250 [00:17<00:00, 72.40it/s, loss=0.0818]\n"
     ]
    },
    {
     "name": "stdout",
     "output_type": "stream",
     "text": [
      "Epoch [6/10], Train Loss: 0.0618, Validation Loss: 0.0387\n"
     ]
    },
    {
     "name": "stderr",
     "output_type": "stream",
     "text": [
      "Epoch [7/10]: 100%|██████████| 1250/1250 [00:17<00:00, 73.16it/s, loss=0.0635]\n"
     ]
    },
    {
     "name": "stdout",
     "output_type": "stream",
     "text": [
      "Epoch [7/10], Train Loss: 0.0628, Validation Loss: 0.0772\n"
     ]
    },
    {
     "name": "stderr",
     "output_type": "stream",
     "text": [
      "Epoch [8/10]: 100%|██████████| 1250/1250 [00:16<00:00, 73.54it/s, loss=0.114] \n"
     ]
    },
    {
     "name": "stdout",
     "output_type": "stream",
     "text": [
      "Epoch [8/10], Train Loss: 0.0605, Validation Loss: 0.0390\n"
     ]
    },
    {
     "name": "stderr",
     "output_type": "stream",
     "text": [
      "Epoch [9/10]: 100%|██████████| 1250/1250 [00:18<00:00, 66.30it/s, loss=0.0549]\n"
     ]
    },
    {
     "name": "stdout",
     "output_type": "stream",
     "text": [
      "Epoch [9/10], Train Loss: 0.0574, Validation Loss: 0.0523\n"
     ]
    },
    {
     "name": "stderr",
     "output_type": "stream",
     "text": [
      "Epoch [10/10]: 100%|██████████| 1250/1250 [00:17<00:00, 70.61it/s, loss=0.0305]\n"
     ]
    },
    {
     "name": "stdout",
     "output_type": "stream",
     "text": [
      "Epoch [10/10], Train Loss: 0.0533, Validation Loss: 0.0196\n"
     ]
    }
   ],
   "source": [
    "train(model, train_loader, val_loader, criterion, optimizer, num_epochs, device)"
   ]
  },
  {
   "cell_type": "code",
   "execution_count": 10,
   "metadata": {},
   "outputs": [
    {
     "name": "stdout",
     "output_type": "stream",
     "text": [
      "Test Loss (MAE): 0.0193\n"
     ]
    }
   ],
   "source": [
    "test_loss = evaluate(model, test_loader, criterion, device)\n",
    "print(f\"Test Loss (MAE): {test_loss:.4f}\")"
   ]
  },
  {
   "cell_type": "code",
   "execution_count": 11,
   "metadata": {},
   "outputs": [],
   "source": [
    "def generate_out_of_distribution_data(start_len=1, end_len=32, samples_per_length=1000):\n",
    "    data, labels = [], []\n",
    "    for length in range(start_len, end_len + 1):\n",
    "        for _ in range(samples_per_length):\n",
    "            sequence = np.random.randint(0, 2, length)\n",
    "            label = np.sum(sequence)\n",
    "            data.append(sequence)\n",
    "            labels.append(label)\n",
    "    return data, labels"
   ]
  },
  {
   "cell_type": "code",
   "execution_count": 12,
   "metadata": {},
   "outputs": [
    {
     "data": {
      "image/png": "[encoded data removed]",
      "text/plain": [
       "<Figure size 1000x600 with 1 Axes>"
      ]
     },
     "metadata": {},
     "output_type": "display_data"
    }
   ],
   "source": [
    "gen_data, gen_labels = generate_out_of_distribution_data()\n",
    "lengths = list(range(1, 33))\n",
    "mae_per_length = []\n",
    "\n",
    "for length in lengths:\n",
    "    length_data = []\n",
    "    length_labels = []\n",
    "    for seq, label in zip(gen_data, gen_labels):\n",
    "        if len(seq) == length:\n",
    "            length_data.append(seq)\n",
    "            length_labels.append(label)\n",
    "    \n",
    "    length_dataset = BitCountingDataset(length_data, length_labels)\n",
    "    length_loader = DataLoader(length_dataset, batch_size=batch_size, shuffle=False, collate_fn=collate_fn_rnn)\n",
    "    mae = evaluate(model, length_loader, criterion, device)\n",
    "    mae_per_length.append(mae)\n",
    "\n",
    "plt.figure(figsize=(10, 6))\n",
    "plt.plot(lengths, mae_per_length, marker='o', color='b')\n",
    "plt.title('Model Generalization Across Sequence Lengths')\n",
    "plt.xlabel('Sequence Length')\n",
    "plt.ylabel('Mean Absolute Error (MAE)')\n",
    "plt.grid(True)\n",
    "plt.savefig('./figures/RNN_generalization.png')\n",
    "plt.show()"
   ]
  },
  {
   "cell_type": "markdown",
   "metadata": {},
   "source": [
    "## OCR"
   ]
  },
  {
   "cell_type": "code",
   "execution_count": 13,
   "metadata": {},
   "outputs": [],
   "source": [
    "def generate_word_images(word_list, image_dir, image_size=(256, 64)):\n",
    "    if not os.path.exists(image_dir):\n",
    "        os.makedirs(image_dir)\n",
    "    for word in tqdm(word_list, desc=\"Generating Images\"):\n",
    "        img = Image.new('L', image_size, color=255)\n",
    "        draw = ImageDraw.Draw(img)\n",
    "        font = ImageFont.load_default()\n",
    "        font_size = 24\n",
    "        font = ImageFont.truetype(\"arial.ttf\", font_size)\n",
    "        bbox = draw.textbbox((0, 0), word, font=font)\n",
    "        x = (image_size[0] - (bbox[2] - bbox[0])) // 2\n",
    "        y = (image_size[1] - (bbox[3] - bbox[1])) // 2\n",
    "        draw.text((x, y), word, font=font, fill=0)\n",
    "        img.save(os.path.join(image_dir, f\"{word}.png\")) \n",
    "\n",
    "image_dir = \"./../../data/external/word_images\"\n",
    "# word_list = words.words()\n",
    "# word_list = list(set(word_list))\n",
    "# word_list = word_list[:100000]\n",
    "# generate_word_images(word_list, image_dir)"
   ]
  },
  {
   "cell_type": "code",
   "execution_count": 14,
   "metadata": {},
   "outputs": [],
   "source": [
    "def create_image_label_lists(image_dir):\n",
    "    image_paths = []\n",
    "    labels = []\n",
    "    for filename in os.listdir(image_dir):\n",
    "        if filename.endswith(\".png\"):\n",
    "            if ('-' in filename) or ('_' in filename):\n",
    "                continue\n",
    "            label = os.path.splitext(filename)[0]\n",
    "            image_paths.append(os.path.join(image_dir, filename))\n",
    "            labels.append(label)\n",
    "    return image_paths, labels"
   ]
  },
  {
   "cell_type": "code",
   "execution_count": 15,
   "metadata": {},
   "outputs": [
    {
     "name": "stdout",
     "output_type": "stream",
     "text": [
      "Max Word Length: 24\n"
     ]
    }
   ],
   "source": [
    "image_paths, labels = create_image_label_lists(image_dir)\n",
    "max_word_length = max(len(label) for label in labels)\n",
    "print(f\"Max Word Length: {max_word_length}\")\n",
    "\n",
    "image_paths_temp, labels_temp = np.array(image_paths), np.array(labels)\n",
    "idx = np.random.permutation(len(image_paths_temp))\n",
    "image_paths, labels = image_paths_temp[idx].tolist(), labels_temp[idx].tolist()\n",
    "\n",
    "train_size = int(0.8 * len(image_paths))\n",
    "val_size = int(0.1 * len(image_paths))\n",
    "test_size = len(image_paths) - train_size - val_size\n",
    "\n",
    "train_paths, val_paths, test_paths = image_paths[:train_size], image_paths[train_size:train_size + val_size], image_paths[train_size + val_size:]\n",
    "train_labels, val_labels, test_labels = labels[:train_size], labels[train_size:train_size + val_size], labels[train_size + val_size:]\n",
    "\n",
    "train_dataset = OCRDataset(train_paths, train_labels, max_length=max_word_length)\n",
    "val_dataset = OCRDataset(val_paths, val_labels, max_length=max_word_length)\n",
    "test_dataset = OCRDataset(test_paths, test_labels, max_length=max_word_length)\n",
    "\n",
    "batch_size = 64\n",
    "train_loader = DataLoader(train_dataset, batch_size=batch_size, shuffle=True)\n",
    "val_loader = DataLoader(val_dataset, batch_size=batch_size, shuffle=False)\n",
    "test_loader = DataLoader(test_dataset, batch_size=batch_size, shuffle=False)"
   ]
  },
  {
   "cell_type": "code",
   "execution_count": 16,
   "metadata": {},
   "outputs": [],
   "source": [
    "def decode_label(one_hot_encoded):\n",
    "    char_map = \"@ABCDEFGHIJKLMNOPQRSTUVWXYZabcdefghijklmnopqrstuvwxyz\"\n",
    "    decoded = \"\"\n",
    "    for i in range(one_hot_encoded.shape[0]):\n",
    "        idx = torch.argmax(one_hot_encoded[i]).item()\n",
    "        if idx == 0:\n",
    "            break\n",
    "        decoded += char_map[idx]\n",
    "    return decoded"
   ]
  },
  {
   "cell_type": "code",
   "execution_count": 17,
   "metadata": {},
   "outputs": [],
   "source": [
    "def get_weights(labels):\n",
    "    weigths = torch.ones(53, dtype=torch.float)\n",
    "    char_map = \"@ABCDEFGHIJKLMNOPQRSTUVWXYZabcdefghijklmnopqrstuvwxyz\"\n",
    "    weigths[0] = 0.2\n",
    "    # weigths[char_map.index('h')] = 1.0\n",
    "    # weigths[char_map.index('b')] = 1.0\n",
    "    # weigths[char_map.index('H')] = 1.0\n",
    "    return weigths"
   ]
  },
  {
   "cell_type": "code",
   "execution_count": 18,
   "metadata": {},
   "outputs": [],
   "source": [
    "device = torch.device(\"cuda\" if torch.cuda.is_available() else \"cpu\")\n",
    "model = OCRModel(num_classes=53, max_length=max_word_length).to(device)\n",
    "weigth = get_weights(train_labels).to(device)\n",
    "criterion = nn.CrossEntropyLoss(weight=weigth)\n",
    "optimizer = torch.optim.Adam(model.parameters(), lr=0.001)"
   ]
  },
  {
   "cell_type": "code",
   "execution_count": 27,
   "metadata": {},
   "outputs": [],
   "source": [
    "def evaluate(model, data_loader, criterion, device, print_output=False):\n",
    "    model.eval()\n",
    "    total_loss = 0\n",
    "    correct_chars = 0\n",
    "    total_chars = 0\n",
    "    with torch.no_grad():\n",
    "        for images, labels in data_loader:\n",
    "            images, labels = images.to(device), labels.to(device)\n",
    "            outputs = model(images)\n",
    "            outputs = outputs.permute(0, 2, 1)\n",
    "            labels = labels.permute(0, 2, 1)\n",
    "            loss = criterion(outputs, labels)\n",
    "            total_loss += loss.item()\n",
    "            outputs = outputs.permute(0, 2, 1)\n",
    "            labels = labels.permute(0, 2, 1)\n",
    "            for i in range(len(labels)):\n",
    "                predicted_label = decode_label(outputs[i])\n",
    "                true_label = decode_label(labels[i])\n",
    "                if print_output and i==0:\n",
    "                    print(true_label, \"<-- True Label\")\n",
    "                    print(predicted_label, \"<-- Predicted Label\")\n",
    "                for j in range(len(true_label)):\n",
    "                    if j < len(predicted_label) and predicted_label[j] == true_label[j]:\n",
    "                        correct_chars += 1\n",
    "                    total_chars += 1\n",
    "    avg_correct_chars = correct_chars / total_chars\n",
    "    total_loss = total_loss / len(data_loader)\n",
    "    return total_loss, avg_correct_chars"
   ]
  },
  {
   "cell_type": "code",
   "execution_count": 20,
   "metadata": {},
   "outputs": [],
   "source": [
    "def train(model, train_loader, val_loader, criterion, optimizer, num_epochs=10, device='cuda'):\n",
    "    model.to(device)\n",
    "    for epoch in range(num_epochs):\n",
    "        model.train()\n",
    "        train_loss = 0\n",
    "        train_loader_tqdm = tqdm(train_loader, desc=f\"Epoch [{epoch+1}/{num_epochs}] - Training\")\n",
    "        \n",
    "        for images, labels in train_loader_tqdm:\n",
    "            images, labels = images.to(device), labels.to(device)\n",
    "            optimizer.zero_grad()\n",
    "            outputs = model(images)\n",
    "            outputs = outputs.permute(0, 2, 1)\n",
    "            labels = labels.permute(0, 2, 1)\n",
    "            loss = criterion(outputs, labels)\n",
    "            loss.backward()\n",
    "            optimizer.step()\n",
    "            train_loss += loss.item()\n",
    "        \n",
    "        train_loss /= len(train_loader)\n",
    "        val_loss, avg_correct_chars = evaluate(model, val_loader, criterion, device)\n",
    "        print(f\"Epoch [{epoch+1}/{num_epochs}], Train Loss: {train_loss:.4f}, Val Loss: {val_loss:.4f}, ANCC in Val: {avg_correct_chars:.4f}\")"
   ]
  },
  {
   "cell_type": "code",
   "execution_count": 21,
   "metadata": {},
   "outputs": [],
   "source": [
    "def random_baseline_accuracy(labels):\n",
    "    correct_chars = 0\n",
    "    total_chars = 0\n",
    "    for label in labels:\n",
    "        predicted_label = ''.join(np.random.choice(list('ABCDEFGHIJKLMNOPQRSTUVWXYZabcdefghijklmnopqrstuvwxyz'), len(label)))\n",
    "        for i in range(len(label)):\n",
    "            if predicted_label[i] == label[i]:\n",
    "                correct_chars += 1\n",
    "            total_chars += 1\n",
    "    return correct_chars / total_chars"
   ]
  },
  {
   "cell_type": "code",
   "execution_count": 22,
   "metadata": {},
   "outputs": [
    {
     "name": "stdout",
     "output_type": "stream",
     "text": [
      "Random Baseline Accuracy: 0.0190\n"
     ]
    }
   ],
   "source": [
    "random_accuracy = random_baseline_accuracy(val_labels)\n",
    "print(f\"Random Baseline Accuracy: {random_accuracy:.4f}\")"
   ]
  },
  {
   "cell_type": "code",
   "execution_count": 23,
   "metadata": {},
   "outputs": [
    {
     "name": "stderr",
     "output_type": "stream",
     "text": [
      "Epoch [1/10] - Training: 100%|██████████| 1247/1247 [02:55<00:00,  7.11it/s]\n"
     ]
    },
    {
     "name": "stdout",
     "output_type": "stream",
     "text": [
      "Epoch [1/10], Train Loss: 1.1071, Val Loss: 0.9058, ANCC in Val: 0.2895\n"
     ]
    },
    {
     "name": "stderr",
     "output_type": "stream",
     "text": [
      "Epoch [2/10] - Training: 100%|██████████| 1247/1247 [03:03<00:00,  6.78it/s]\n"
     ]
    },
    {
     "name": "stdout",
     "output_type": "stream",
     "text": [
      "Epoch [2/10], Train Loss: 0.6848, Val Loss: 0.4770, ANCC in Val: 0.6185\n"
     ]
    },
    {
     "name": "stderr",
     "output_type": "stream",
     "text": [
      "Epoch [3/10] - Training: 100%|██████████| 1247/1247 [03:00<00:00,  6.90it/s]\n"
     ]
    },
    {
     "name": "stdout",
     "output_type": "stream",
     "text": [
      "Epoch [3/10], Train Loss: 0.3920, Val Loss: 0.2815, ANCC in Val: 0.7729\n"
     ]
    },
    {
     "name": "stderr",
     "output_type": "stream",
     "text": [
      "Epoch [4/10] - Training: 100%|██████████| 1247/1247 [02:44<00:00,  7.57it/s]\n"
     ]
    },
    {
     "name": "stdout",
     "output_type": "stream",
     "text": [
      "Epoch [4/10], Train Loss: 0.2452, Val Loss: 0.1791, ANCC in Val: 0.8553\n"
     ]
    },
    {
     "name": "stderr",
     "output_type": "stream",
     "text": [
      "Epoch [5/10] - Training: 100%|██████████| 1247/1247 [02:41<00:00,  7.71it/s]\n"
     ]
    },
    {
     "name": "stdout",
     "output_type": "stream",
     "text": [
      "Epoch [5/10], Train Loss: 0.1737, Val Loss: 0.1249, ANCC in Val: 0.9016\n"
     ]
    },
    {
     "name": "stderr",
     "output_type": "stream",
     "text": [
      "Epoch [6/10] - Training: 100%|██████████| 1247/1247 [02:54<00:00,  7.15it/s]\n"
     ]
    },
    {
     "name": "stdout",
     "output_type": "stream",
     "text": [
      "Epoch [6/10], Train Loss: 0.1342, Val Loss: 0.0962, ANCC in Val: 0.9243\n"
     ]
    },
    {
     "name": "stderr",
     "output_type": "stream",
     "text": [
      "Epoch [7/10] - Training: 100%|██████████| 1247/1247 [02:29<00:00,  8.36it/s]\n"
     ]
    },
    {
     "name": "stdout",
     "output_type": "stream",
     "text": [
      "Epoch [7/10], Train Loss: 0.1087, Val Loss: 0.0806, ANCC in Val: 0.9367\n"
     ]
    },
    {
     "name": "stderr",
     "output_type": "stream",
     "text": [
      "Epoch [8/10] - Training: 100%|██████████| 1247/1247 [02:20<00:00,  8.86it/s]\n"
     ]
    },
    {
     "name": "stdout",
     "output_type": "stream",
     "text": [
      "Epoch [8/10], Train Loss: 0.0942, Val Loss: 0.0946, ANCC in Val: 0.9261\n"
     ]
    },
    {
     "name": "stderr",
     "output_type": "stream",
     "text": [
      "Epoch [9/10] - Training: 100%|██████████| 1247/1247 [02:22<00:00,  8.73it/s]\n"
     ]
    },
    {
     "name": "stdout",
     "output_type": "stream",
     "text": [
      "Epoch [9/10], Train Loss: 0.0823, Val Loss: 0.0745, ANCC in Val: 0.9434\n"
     ]
    },
    {
     "name": "stderr",
     "output_type": "stream",
     "text": [
      "Epoch [10/10] - Training: 100%|██████████| 1247/1247 [02:22<00:00,  8.73it/s]\n"
     ]
    },
    {
     "name": "stdout",
     "output_type": "stream",
     "text": [
      "Epoch [10/10], Train Loss: 0.0750, Val Loss: 0.0534, ANCC in Val: 0.9586\n"
     ]
    }
   ],
   "source": [
    "train(model, train_loader, val_loader, criterion, optimizer, num_epochs=10, device=device)"
   ]
  },
  {
   "cell_type": "code",
   "execution_count": 28,
   "metadata": {},
   "outputs": [
    {
     "name": "stdout",
     "output_type": "stream",
     "text": [
      "nonrecent <-- True Label\n",
      "nonrecent <-- Predicted Label\n",
      "Ortalis <-- True Label\n",
      "Ortalis <-- Predicted Label\n",
      "Afrikaans <-- True Label\n",
      "Arrikaans <-- Predicted Label\n",
      "reposition <-- True Label\n",
      "reposition <-- Predicted Label\n",
      "rootling <-- True Label\n",
      "rootling <-- Predicted Label\n",
      "courbache <-- True Label\n",
      "courbache <-- Predicted Label\n",
      "wieldiness <-- True Label\n",
      "wieldiness <-- Predicted Label\n",
      "albiness <-- True Label\n",
      "albiness <-- Predicted Label\n",
      "rumbler <-- True Label\n",
      "rumbler <-- Predicted Label\n",
      "Centropomidae <-- True Label\n",
      "Centropomidae <-- Predicted Label\n",
      "pathobiology <-- True Label\n",
      "pathobiology <-- Predicted Label\n",
      "anoplotheroid <-- True Label\n",
      "anoplotherbid <-- Predicted Label\n",
      "Ptolemy <-- True Label\n",
      "Ptolemy <-- Predicted Label\n",
      "tredille <-- True Label\n",
      "tredille <-- Predicted Label\n",
      "acronyctous <-- True Label\n",
      "acropyctous <-- Predicted Label\n",
      "protragical <-- True Label\n",
      "protragical <-- Predicted Label\n",
      "skittler <-- True Label\n",
      "skittler <-- Predicted Label\n",
      "Mississippi <-- True Label\n",
      "Mississippi <-- Predicted Label\n",
      "pathfarer <-- True Label\n",
      "pathfarer <-- Predicted Label\n",
      "overbear <-- True Label\n",
      "overbear <-- Predicted Label\n",
      "irrigable <-- True Label\n",
      "irrigable <-- Predicted Label\n",
      "tawkee <-- True Label\n",
      "tawkee <-- Predicted Label\n",
      "hexacosihedroid <-- True Label\n",
      "hexecosineetoid <-- Predicted Label\n",
      "expropriate <-- True Label\n",
      "expropriate <-- Predicted Label\n",
      "alimentotherapy <-- True Label\n",
      "alimmetocherapy <-- Predicted Label\n",
      "tackproof <-- True Label\n",
      "tackproof <-- Predicted Label\n",
      "come <-- True Label\n",
      "come <-- Predicted Label\n",
      "isonitroso <-- True Label\n",
      "isonitraco <-- Predicted Label\n",
      "Hexateuch <-- True Label\n",
      "Hekateuch <-- Predicted Label\n",
      "ficoides <-- True Label\n",
      "ficoides <-- Predicted Label\n",
      "Huxleian <-- True Label\n",
      "Hukleian <-- Predicted Label\n",
      "charter <-- True Label\n",
      "charter <-- Predicted Label\n",
      "lambeau <-- True Label\n",
      "lambeau <-- Predicted Label\n",
      "bifoliate <-- True Label\n",
      "bifoliate <-- Predicted Label\n",
      "dendrophil <-- True Label\n",
      "dendrophil <-- Predicted Label\n",
      "nubile <-- True Label\n",
      "nubile <-- Predicted Label\n",
      "tobaccoite <-- True Label\n",
      "tobaccoite <-- Predicted Label\n",
      "preascertainment <-- True Label\n",
      "precscertaimeent <-- Predicted Label\n",
      "panoplied <-- True Label\n",
      "panoplled <-- Predicted Label\n",
      "naturopathy <-- True Label\n",
      "naturopathy <-- Predicted Label\n",
      "unincensed <-- True Label\n",
      "unincensed <-- Predicted Label\n",
      "unhelmet <-- True Label\n",
      "unhelmet <-- Predicted Label\n",
      "pastorality <-- True Label\n",
      "pastorality <-- Predicted Label\n",
      "napping <-- True Label\n",
      "napping <-- Predicted Label\n",
      "tamber <-- True Label\n",
      "tamber <-- Predicted Label\n",
      "Astrachan <-- True Label\n",
      "Astrachan <-- Predicted Label\n",
      "freezer <-- True Label\n",
      "freezer <-- Predicted Label\n",
      "epidemical <-- True Label\n",
      "epidemical <-- Predicted Label\n",
      "reattribution <-- True Label\n",
      "reatrifuution <-- Predicted Label\n",
      "embranchment <-- True Label\n",
      "embranchment <-- Predicted Label\n",
      "perfectionate <-- True Label\n",
      "perfectionate <-- Predicted Label\n",
      "premidnight <-- True Label\n",
      "premiddight <-- Predicted Label\n",
      "screeching <-- True Label\n",
      "screeching <-- Predicted Label\n",
      "playlet <-- True Label\n",
      "playlet <-- Predicted Label\n",
      "psorous <-- True Label\n",
      "psorous <-- Predicted Label\n",
      "support <-- True Label\n",
      "support <-- Predicted Label\n",
      "goosy <-- True Label\n",
      "goosy <-- Predicted Label\n",
      "palatable <-- True Label\n",
      "palatable <-- Predicted Label\n",
      "pickerel <-- True Label\n",
      "pickerel <-- Predicted Label\n",
      "tarafdar <-- True Label\n",
      "taraidar <-- Predicted Label\n",
      "enherit <-- True Label\n",
      "enherit <-- Predicted Label\n",
      "Lucania <-- True Label\n",
      "Lucania <-- Predicted Label\n",
      "warrioress <-- True Label\n",
      "varrioress <-- Predicted Label\n",
      "dolabriform <-- True Label\n",
      "dolabriform <-- Predicted Label\n",
      "propyne <-- True Label\n",
      "propyne <-- Predicted Label\n",
      "inspective <-- True Label\n",
      "inspective <-- Predicted Label\n",
      "chalchuite <-- True Label\n",
      "chalchulte <-- Predicted Label\n",
      "himward <-- True Label\n",
      "himward <-- Predicted Label\n",
      "purpurite <-- True Label\n",
      "purpurite <-- Predicted Label\n",
      "Milvus <-- True Label\n",
      "Milvus <-- Predicted Label\n",
      "ria <-- True Label\n",
      "ria <-- Predicted Label\n",
      "accusatorially <-- True Label\n",
      "accosatorially <-- Predicted Label\n",
      "seller <-- True Label\n",
      "seller <-- Predicted Label\n",
      "ruffianage <-- True Label\n",
      "rufffanage <-- Predicted Label\n",
      "microfossil <-- True Label\n",
      "microfossil <-- Predicted Label\n",
      "Aloysius <-- True Label\n",
      "Aloysius <-- Predicted Label\n",
      "blubberer <-- True Label\n",
      "blubberer <-- Predicted Label\n",
      "undrunk <-- True Label\n",
      "undruuk <-- Predicted Label\n",
      "rambler <-- True Label\n",
      "rambler <-- Predicted Label\n",
      "hyperdiapason <-- True Label\n",
      "hyperdiopason <-- Predicted Label\n",
      "autospray <-- True Label\n",
      "autosprey <-- Predicted Label\n",
      "gereagle <-- True Label\n",
      "gereagle <-- Predicted Label\n",
      "bigarade <-- True Label\n",
      "bigarade <-- Predicted Label\n",
      "pennoplume <-- True Label\n",
      "pennoplume <-- Predicted Label\n",
      "resolder <-- True Label\n",
      "resolder <-- Predicted Label\n",
      "batonistic <-- True Label\n",
      "batonistic <-- Predicted Label\n",
      "precooling <-- True Label\n",
      "precooling <-- Predicted Label\n",
      "cannabinaceous <-- True Label\n",
      "cannabinaceous <-- Predicted Label\n",
      "serocystic <-- True Label\n",
      "serocystic <-- Predicted Label\n",
      "teameo <-- True Label\n",
      "teameo <-- Predicted Label\n",
      "Romanist <-- True Label\n",
      "Romanist <-- Predicted Label\n",
      "ranchman <-- True Label\n",
      "ranchman <-- Predicted Label\n",
      "astigmatic <-- True Label\n",
      "astigmatic <-- Predicted Label\n",
      "retroactive <-- True Label\n",
      "retroactive <-- Predicted Label\n",
      "Carbonari <-- True Label\n",
      "Carbonari <-- Predicted Label\n",
      "atrolactic <-- True Label\n",
      "atrolactic <-- Predicted Label\n",
      "nonsociety <-- True Label\n",
      "nonsociety <-- Predicted Label\n",
      "wildling <-- True Label\n",
      "wilbling <-- Predicted Label\n",
      "Randolph <-- True Label\n",
      "Ramdolpp <-- Predicted Label\n",
      "apophyge <-- True Label\n",
      "apophyge <-- Predicted Label\n",
      "antecourt <-- True Label\n",
      "antecourt <-- Predicted Label\n",
      "zincographical <-- True Label\n",
      "ziicographical <-- Predicted Label\n",
      "embarras <-- True Label\n",
      "embarras <-- Predicted Label\n",
      "drogher <-- True Label\n",
      "drogher <-- Predicted Label\n",
      "secrecy <-- True Label\n",
      "secrecy <-- Predicted Label\n",
      "flowered <-- True Label\n",
      "flowered <-- Predicted Label\n",
      "quintocubital <-- True Label\n",
      "quintocubital <-- Predicted Label\n",
      "quitch <-- True Label\n",
      "quitch <-- Predicted Label\n",
      "uncolorably <-- True Label\n",
      "uncolorably <-- Predicted Label\n",
      "Seker <-- True Label\n",
      "Seker <-- Predicted Label\n",
      "polygamous <-- True Label\n",
      "polygamous <-- Predicted Label\n",
      "filarian <-- True Label\n",
      "filarian <-- Predicted Label\n",
      "atwixt <-- True Label\n",
      "alwixt <-- Predicted Label\n",
      "sequestrable <-- True Label\n",
      "sequestrable <-- Predicted Label\n",
      "screich <-- True Label\n",
      "screich <-- Predicted Label\n",
      "tricarpous <-- True Label\n",
      "tricarpous <-- Predicted Label\n",
      "untranscribable <-- True Label\n",
      "untranstribable <-- Predicted Label\n",
      "raper <-- True Label\n",
      "raper <-- Predicted Label\n",
      "spokesman <-- True Label\n",
      "spokesman <-- Predicted Label\n",
      "nondiversification <-- True Label\n",
      "nonniversifiattion <-- Predicted Label\n",
      "cockalorum <-- True Label\n",
      "cockalorum <-- Predicted Label\n",
      "rangeman <-- True Label\n",
      "rangeman <-- Predicted Label\n",
      "isobarism <-- True Label\n",
      "isobarism <-- Predicted Label\n",
      "threatenable <-- True Label\n",
      "threatenable <-- Predicted Label\n",
      "Hadromerina <-- True Label\n",
      "Hadromerina <-- Predicted Label\n",
      "Gervais <-- True Label\n",
      "Gervais <-- Predicted Label\n",
      "Schlauraffenland <-- True Label\n",
      "Stlluurafienaaaa <-- Predicted Label\n",
      "undisturbedly <-- True Label\n",
      "undisturbedly <-- Predicted Label\n",
      "Palaeotherium <-- True Label\n",
      "Paleeatherium <-- Predicted Label\n",
      "multipolar <-- True Label\n",
      "multipolar <-- Predicted Label\n",
      "transcolor <-- True Label\n",
      "transcolor <-- Predicted Label\n",
      "crippler <-- True Label\n",
      "crippler <-- Predicted Label\n",
      "underhung <-- True Label\n",
      "underhung <-- Predicted Label\n",
      "nevoy <-- True Label\n",
      "newoy <-- Predicted Label\n",
      "circuitously <-- True Label\n",
      "ciruuitously <-- Predicted Label\n",
      "coof <-- True Label\n",
      "coof <-- Predicted Label\n",
      "irritativeness <-- True Label\n",
      "irrifativeness <-- Predicted Label\n",
      "fellow <-- True Label\n",
      "fellow <-- Predicted Label\n",
      "ridgerope <-- True Label\n",
      "ridgerope <-- Predicted Label\n",
      "abundancy <-- True Label\n",
      "abundancy <-- Predicted Label\n",
      "nuclei <-- True Label\n",
      "nuclei <-- Predicted Label\n",
      "hoof <-- True Label\n",
      "hoof <-- Predicted Label\n",
      "counterborder <-- True Label\n",
      "counterborder <-- Predicted Label\n",
      "depopulate <-- True Label\n",
      "depopblate <-- Predicted Label\n",
      "scrobe <-- True Label\n",
      "scrobe <-- Predicted Label\n",
      "perhalogen <-- True Label\n",
      "perhalogen <-- Predicted Label\n",
      "transmutive <-- True Label\n",
      "transmutive <-- Predicted Label\n",
      "Uralian <-- True Label\n",
      "Uralian <-- Predicted Label\n",
      "illimitable <-- True Label\n",
      "lllimitable <-- Predicted Label\n",
      "hepatatrophia <-- True Label\n",
      "hepatatrophia <-- Predicted Label\n",
      "nursling <-- True Label\n",
      "nursling <-- Predicted Label\n",
      "computably <-- True Label\n",
      "computably <-- Predicted Label\n",
      "biosphere <-- True Label\n",
      "biosphere <-- Predicted Label\n",
      "guillotinade <-- True Label\n",
      "guillotinade <-- Predicted Label\n",
      "uncatechized <-- True Label\n",
      "uncatechized <-- Predicted Label\n",
      "Wakore <-- True Label\n",
      "Wakoze <-- Predicted Label\n",
      "Test Loss: 0.0532, ANCC in Test: 0.9585\n"
     ]
    }
   ],
   "source": [
    "test_loss, avg_correct_chars = evaluate(model, test_loader, criterion, device, print_output=True)\n",
    "print(f\"Test Loss: {test_loss:.4f}, ANCC in Test: {avg_correct_chars:.4f}\")"
   ]
  }
 ],
 "metadata": {
  "kernelspec": {
   "display_name": "Python 3",
   "language": "python",
   "name": "python3"
  },
  "language_info": {
   "codemirror_mode": {
    "name": "ipython",
    "version": 3
   },
   "file_extension": ".py",
   "mimetype": "text/x-python",
   "name": "python",
   "nbconvert_exporter": "python",
   "pygments_lexer": "ipython3",
   "version": "3.12.7"
  }
 },
 "nbformat": 4,
 "nbformat_minor": 2
}
