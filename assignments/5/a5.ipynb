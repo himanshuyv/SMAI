{
 "cells": [
  {
   "cell_type": "code",
   "execution_count": 1,
   "metadata": {},
   "outputs": [],
   "source": [
    "import numpy as np\n",
    "import matplotlib.pyplot as plt\n",
    "from torch.utils.data import DataLoader\n",
    "import os\n",
    "import torch\n",
    "import torch.nn as nn\n",
    "from tqdm import tqdm\n",
    "from PIL import Image, ImageDraw, ImageFont\n",
    "from nltk.corpus import words\n",
    "\n",
    "import sys\n",
    "sys.path.append('./../../')\n",
    "from models.rnn.rnn import RNN, RNNDataset\n",
    "from models.ocr.ocr import OCRModel, OCRDataset"
   ]
  },
  {
   "cell_type": "markdown",
   "metadata": {},
   "source": [
    "## RNN"
   ]
  },
  {
   "cell_type": "code",
   "execution_count": 2,
   "metadata": {},
   "outputs": [],
   "source": [
    "def generate_bit_count_data(num_samples=100000, max_len=16):\n",
    "    data, labels = [], []\n",
    "    for _ in range(num_samples):\n",
    "        length = np.random.randint(1, max_len + 1)\n",
    "        sequence = np.random.randint(0, 2, length)\n",
    "        label = np.sum(sequence)\n",
    "        data.append(sequence)\n",
    "        labels.append(label)\n",
    "    return data, labels"
   ]
  },
  {
   "cell_type": "code",
   "execution_count": 3,
   "metadata": {},
   "outputs": [],
   "source": [
    "def evaluate(model, data_loader, criterion, device):\n",
    "    model.eval()\n",
    "    total_loss = 0\n",
    "    with torch.no_grad():\n",
    "        for sequences, labels, lengths in data_loader:\n",
    "            sequences, labels, lengths = sequences.to(device), labels.to(device), lengths.to(device)\n",
    "            outputs = model(sequences, lengths)\n",
    "            loss = criterion(outputs.squeeze(), labels.squeeze(-1))\n",
    "            total_loss += loss.item() * sequences.size(0)\n",
    "    return total_loss / len(data_loader.dataset)"
   ]
  },
  {
   "cell_type": "code",
   "execution_count": 4,
   "metadata": {},
   "outputs": [],
   "source": [
    "data, labels = generate_bit_count_data()\n",
    "train_size = int(0.8 * len(data))\n",
    "val_size = int(0.1 * len(data))\n",
    "\n",
    "train_data, val_data, test_data = data[:train_size], data[train_size:train_size + val_size], data[train_size + val_size:]\n",
    "train_labels, val_labels, test_labels = labels[:train_size], labels[train_size:train_size + val_size], labels[train_size + val_size:]\n",
    "\n",
    "train_dataset = RNNDataset(train_data, train_labels)\n",
    "val_dataset = RNNDataset(val_data, val_labels)\n",
    "test_dataset = RNNDataset(test_data, test_labels)\n",
    "\n",
    "batch_size = 64\n",
    "train_loader = DataLoader(train_dataset, batch_size=batch_size, shuffle=True)\n",
    "val_loader = DataLoader(val_dataset, batch_size=batch_size, shuffle=False)\n",
    "test_loader = DataLoader(test_dataset, batch_size=batch_size, shuffle=False)\n"
   ]
  },
  {
   "cell_type": "code",
   "execution_count": 5,
   "metadata": {},
   "outputs": [],
   "source": [
    "def train(model, train_loader, val_loader, criterion, optimizer, num_epochs, device):\n",
    "    for epoch in range(num_epochs):\n",
    "        model.train()\n",
    "        total_train_loss = 0\n",
    "        train_progress = tqdm(train_loader, desc=f\"Epoch [{epoch+1}/{num_epochs}]\")\n",
    "        \n",
    "        for sequences, labels, lengths in train_progress:\n",
    "            sequences, labels, lengths = sequences.to(device), labels.to(device), lengths.to(device)\n",
    "            outputs = model(sequences, lengths)\n",
    "            loss = criterion(outputs.squeeze(), labels.squeeze(-1))\n",
    "            optimizer.zero_grad()\n",
    "            loss.backward()\n",
    "            optimizer.step()\n",
    "            total_train_loss += loss.item() * sequences.size(0)\n",
    "            train_progress.set_postfix(loss=loss.item())\n",
    "        \n",
    "        train_loss = total_train_loss / len(train_loader.dataset)\n",
    "        val_loss = evaluate(model, val_loader, criterion, device)\n",
    "        \n",
    "        print(f\"Epoch [{epoch+1}/{num_epochs}], Train MAE: {train_loss:.4f}, Validation MAE: {val_loss:.4f}\")\n"
   ]
  },
  {
   "cell_type": "code",
   "execution_count": 6,
   "metadata": {},
   "outputs": [],
   "source": [
    "model = RNN(input_size=1, hidden_size=32, num_layers=1)\n",
    "criterion = nn.L1Loss()\n",
    "optimizer = torch.optim.Adam(model.parameters(), lr=0.001)\n",
    "device = torch.device(\"cuda\" if torch.cuda.is_available() else \"cpu\")\n",
    "model.to(device)\n",
    "num_epochs = 10"
   ]
  },
  {
   "cell_type": "code",
   "execution_count": 7,
   "metadata": {},
   "outputs": [],
   "source": [
    "def random_baseline_MAE(data_loader):\n",
    "    loss = 0\n",
    "    total = 0\n",
    "    for sequences, labels, lengths in data_loader:\n",
    "        for i in range(len(sequences)):\n",
    "            cur_pred = np.random.randint(0, lengths[i].item() + 1)\n",
    "            loss += np.abs(cur_pred - labels[i].item())\n",
    "            total += 1\n",
    "    return loss / total"
   ]
  },
  {
   "cell_type": "code",
   "execution_count": 8,
   "metadata": {},
   "outputs": [
    {
     "name": "stdout",
     "output_type": "stream",
     "text": [
      "Random Baseline MAE: 2.5674\n"
     ]
    }
   ],
   "source": [
    "print(f\"Random Baseline MAE: {random_baseline_MAE(val_loader)}\")"
   ]
  },
  {
   "cell_type": "code",
   "execution_count": 9,
   "metadata": {},
   "outputs": [
    {
     "name": "stderr",
     "output_type": "stream",
     "text": [
      "Epoch [1/10]: 100%|██████████| 1250/1250 [00:46<00:00, 27.11it/s, loss=0.25]  \n"
     ]
    },
    {
     "name": "stdout",
     "output_type": "stream",
     "text": [
      "Epoch [1/10], Train MAE: 0.5564, Validation MAE: 0.3793\n"
     ]
    },
    {
     "name": "stderr",
     "output_type": "stream",
     "text": [
      "Epoch [2/10]: 100%|██████████| 1250/1250 [00:45<00:00, 27.61it/s, loss=0.0545]\n"
     ]
    },
    {
     "name": "stdout",
     "output_type": "stream",
     "text": [
      "Epoch [2/10], Train MAE: 0.1223, Validation MAE: 0.1169\n"
     ]
    },
    {
     "name": "stderr",
     "output_type": "stream",
     "text": [
      "Epoch [3/10]: 100%|██████████| 1250/1250 [00:44<00:00, 28.08it/s, loss=0.137] \n"
     ]
    },
    {
     "name": "stdout",
     "output_type": "stream",
     "text": [
      "Epoch [3/10], Train MAE: 0.1018, Validation MAE: 0.0737\n"
     ]
    },
    {
     "name": "stderr",
     "output_type": "stream",
     "text": [
      "Epoch [4/10]: 100%|██████████| 1250/1250 [00:43<00:00, 28.75it/s, loss=0.0278]\n"
     ]
    },
    {
     "name": "stdout",
     "output_type": "stream",
     "text": [
      "Epoch [4/10], Train MAE: 0.0889, Validation MAE: 0.0613\n"
     ]
    },
    {
     "name": "stderr",
     "output_type": "stream",
     "text": [
      "Epoch [5/10]: 100%|██████████| 1250/1250 [00:46<00:00, 26.60it/s, loss=0.0267]\n"
     ]
    },
    {
     "name": "stdout",
     "output_type": "stream",
     "text": [
      "Epoch [5/10], Train MAE: 0.0887, Validation MAE: 0.0641\n"
     ]
    },
    {
     "name": "stderr",
     "output_type": "stream",
     "text": [
      "Epoch [6/10]: 100%|██████████| 1250/1250 [00:43<00:00, 28.58it/s, loss=0.0965]\n"
     ]
    },
    {
     "name": "stdout",
     "output_type": "stream",
     "text": [
      "Epoch [6/10], Train MAE: 0.0788, Validation MAE: 0.0817\n"
     ]
    },
    {
     "name": "stderr",
     "output_type": "stream",
     "text": [
      "Epoch [7/10]: 100%|██████████| 1250/1250 [00:43<00:00, 28.58it/s, loss=0.0363]\n"
     ]
    },
    {
     "name": "stdout",
     "output_type": "stream",
     "text": [
      "Epoch [7/10], Train MAE: 0.0675, Validation MAE: 0.0466\n"
     ]
    },
    {
     "name": "stderr",
     "output_type": "stream",
     "text": [
      "Epoch [8/10]: 100%|██████████| 1250/1250 [00:55<00:00, 22.68it/s, loss=0.0569]\n"
     ]
    },
    {
     "name": "stdout",
     "output_type": "stream",
     "text": [
      "Epoch [8/10], Train MAE: 0.0670, Validation MAE: 0.1191\n"
     ]
    },
    {
     "name": "stderr",
     "output_type": "stream",
     "text": [
      "Epoch [9/10]: 100%|██████████| 1250/1250 [00:46<00:00, 26.90it/s, loss=0.0643]\n"
     ]
    },
    {
     "name": "stdout",
     "output_type": "stream",
     "text": [
      "Epoch [9/10], Train MAE: 0.0703, Validation MAE: 0.0414\n"
     ]
    },
    {
     "name": "stderr",
     "output_type": "stream",
     "text": [
      "Epoch [10/10]: 100%|██████████| 1250/1250 [00:48<00:00, 25.98it/s, loss=0.0612]\n"
     ]
    },
    {
     "name": "stdout",
     "output_type": "stream",
     "text": [
      "Epoch [10/10], Train MAE: 0.0634, Validation MAE: 0.0512\n"
     ]
    }
   ],
   "source": [
    "train(model, train_loader, val_loader, criterion, optimizer, num_epochs, device)"
   ]
  },
  {
   "cell_type": "code",
   "execution_count": 13,
   "metadata": {},
   "outputs": [
    {
     "name": "stdout",
     "output_type": "stream",
     "text": [
      "Test MAE: 0.0509\n"
     ]
    }
   ],
   "source": [
    "test_loss = evaluate(model, test_loader, criterion, device)\n",
    "print(f\"Test MAE: {test_loss:.4f}\")"
   ]
  },
  {
   "cell_type": "code",
   "execution_count": 14,
   "metadata": {},
   "outputs": [],
   "source": [
    "def generate_out_of_distribution_data(start_len=1, end_len=32, samples_per_length=1000):\n",
    "    data, labels = [], []\n",
    "    for length in range(start_len, end_len + 1):\n",
    "        for _ in range(samples_per_length):\n",
    "            sequence = np.random.randint(0, 2, length)\n",
    "            label = np.sum(sequence)\n",
    "            data.append(sequence)\n",
    "            labels.append(label)\n",
    "    return data, labels"
   ]
  },
  {
   "cell_type": "code",
   "execution_count": 15,
   "metadata": {},
   "outputs": [
    {
     "data": {
      "image/png": "[encoded data removed]",
      "text/plain": [
       "<Figure size 1000x600 with 1 Axes>"
      ]
     },
     "metadata": {},
     "output_type": "display_data"
    }
   ],
   "source": [
    "gen_data, gen_labels = generate_out_of_distribution_data()\n",
    "lengths = list(range(1, 33))\n",
    "mae_per_length = []\n",
    "\n",
    "for length in lengths:\n",
    "    length_data = []\n",
    "    length_labels = []\n",
    "    for seq, label in zip(gen_data, gen_labels):\n",
    "        if len(seq) == length:\n",
    "            length_data.append(seq)\n",
    "            length_labels.append(label)\n",
    "    \n",
    "    length_dataset = RNNDataset(length_data, length_labels)\n",
    "    length_loader = DataLoader(length_dataset, batch_size=batch_size, shuffle=False)\n",
    "    mae = evaluate(model, length_loader, criterion, device)\n",
    "    mae_per_length.append(mae)\n",
    "\n",
    "plt.figure(figsize=(10, 6))\n",
    "plt.plot(lengths, mae_per_length, marker='o', color='b')\n",
    "plt.title('Model Generalization Across Sequence Lengths')\n",
    "plt.xlabel('Sequence Length')\n",
    "plt.ylabel('Mean Absolute Error')\n",
    "plt.grid(True)\n",
    "plt.savefig('./figures/RNN_generalization.png')\n",
    "plt.show()"
   ]
  },
  {
   "cell_type": "markdown",
   "metadata": {},
   "source": [
    "## OCR"
   ]
  },
  {
   "cell_type": "code",
   "execution_count": 13,
   "metadata": {},
   "outputs": [],
   "source": [
    "def generate_word_images(word_list, image_dir, image_size=(256, 64)):\n",
    "    if not os.path.exists(image_dir):\n",
    "        os.makedirs(image_dir)\n",
    "    for word in tqdm(word_list, desc=\"Generating Images\"):\n",
    "        img = Image.new('L', image_size, color=255)\n",
    "        draw = ImageDraw.Draw(img)\n",
    "        font = ImageFont.load_default()\n",
    "        font_size = 24\n",
    "        font = ImageFont.truetype(\"arial.ttf\", font_size)\n",
    "        bbox = draw.textbbox((0, 0), word, font=font)\n",
    "        x = (image_size[0] - (bbox[2] - bbox[0])) // 2\n",
    "        y = (image_size[1] - (bbox[3] - bbox[1])) // 2\n",
    "        draw.text((x, y), word, font=font, fill=0)\n",
    "        img.save(os.path.join(image_dir, f\"{word}.png\")) \n",
    "\n",
    "image_dir = \"./../../data/external/word_images\"\n",
    "# word_list = words.words()\n",
    "# word_list = list(set(word_list))\n",
    "# word_list = word_list[:100000]\n",
    "# generate_word_images(word_list, image_dir)"
   ]
  },
  {
   "cell_type": "code",
   "execution_count": 14,
   "metadata": {},
   "outputs": [],
   "source": [
    "def create_image_label_lists(image_dir):\n",
    "    image_paths = []\n",
    "    labels = []\n",
    "    for filename in os.listdir(image_dir):\n",
    "        if filename.endswith(\".png\"):\n",
    "            if ('-' in filename) or ('_' in filename):\n",
    "                continue\n",
    "            label = os.path.splitext(filename)[0]\n",
    "            image_paths.append(os.path.join(image_dir, filename))\n",
    "            labels.append(label)\n",
    "    return image_paths, labels"
   ]
  },
  {
   "cell_type": "code",
   "execution_count": 15,
   "metadata": {},
   "outputs": [
    {
     "name": "stdout",
     "output_type": "stream",
     "text": [
      "Max Word Length: 24\n"
     ]
    }
   ],
   "source": [
    "image_paths, labels = create_image_label_lists(image_dir)\n",
    "max_word_length = max(len(label) for label in labels)\n",
    "print(f\"Max Word Length: {max_word_length}\")\n",
    "\n",
    "image_paths_temp, labels_temp = np.array(image_paths), np.array(labels)\n",
    "idx = np.random.permutation(len(image_paths_temp))\n",
    "image_paths, labels = image_paths_temp[idx].tolist(), labels_temp[idx].tolist()\n",
    "\n",
    "train_size = int(0.8 * len(image_paths))\n",
    "val_size = int(0.1 * len(image_paths))\n",
    "test_size = len(image_paths) - train_size - val_size\n",
    "\n",
    "train_paths, val_paths, test_paths = image_paths[:train_size], image_paths[train_size:train_size + val_size], image_paths[train_size + val_size:]\n",
    "train_labels, val_labels, test_labels = labels[:train_size], labels[train_size:train_size + val_size], labels[train_size + val_size:]\n",
    "\n",
    "train_dataset = OCRDataset(train_paths, train_labels, max_length=max_word_length)\n",
    "val_dataset = OCRDataset(val_paths, val_labels, max_length=max_word_length)\n",
    "test_dataset = OCRDataset(test_paths, test_labels, max_length=max_word_length)\n",
    "\n",
    "batch_size = 64\n",
    "train_loader = DataLoader(train_dataset, batch_size=batch_size, shuffle=True)\n",
    "val_loader = DataLoader(val_dataset, batch_size=batch_size, shuffle=False)\n",
    "test_loader = DataLoader(test_dataset, batch_size=batch_size, shuffle=False)"
   ]
  },
  {
   "cell_type": "code",
   "execution_count": 16,
   "metadata": {},
   "outputs": [],
   "source": [
    "def decode_label(one_hot_encoded):\n",
    "    char_map = \"@ABCDEFGHIJKLMNOPQRSTUVWXYZabcdefghijklmnopqrstuvwxyz\"\n",
    "    decoded = \"\"\n",
    "    for i in range(one_hot_encoded.shape[0]):\n",
    "        idx = torch.argmax(one_hot_encoded[i]).item()\n",
    "        if idx == 0:\n",
    "            break\n",
    "        decoded += char_map[idx]\n",
    "    return decoded"
   ]
  },
  {
   "cell_type": "code",
   "execution_count": 17,
   "metadata": {},
   "outputs": [],
   "source": [
    "def get_weights():\n",
    "    weigths = torch.ones(53, dtype=torch.float)\n",
    "    char_map = \"@ABCDEFGHIJKLMNOPQRSTUVWXYZabcdefghijklmnopqrstuvwxyz\"\n",
    "    weigths[0] = 0.2\n",
    "    return weigths"
   ]
  },
  {
   "cell_type": "code",
   "execution_count": 18,
   "metadata": {},
   "outputs": [],
   "source": [
    "device = torch.device(\"cuda\" if torch.cuda.is_available() else \"cpu\")\n",
    "model = OCRModel(num_classes=53, max_length=max_word_length).to(device)\n",
    "weigth = get_weights(train_labels).to(device)\n",
    "criterion = nn.CrossEntropyLoss(weight=weigth)\n",
    "optimizer = torch.optim.Adam(model.parameters(), lr=0.001)"
   ]
  },
  {
   "cell_type": "code",
   "execution_count": 19,
   "metadata": {},
   "outputs": [],
   "source": [
    "def evaluate(model, data_loader, criterion, device, print_output=False):\n",
    "    model.eval()\n",
    "    total_loss = 0\n",
    "    correct_chars = 0\n",
    "    total_chars = 0\n",
    "    with torch.no_grad():\n",
    "        for images, labels in data_loader:\n",
    "            images, labels = images.to(device), labels.to(device)\n",
    "            outputs = model(images)\n",
    "            outputs = outputs.permute(0, 2, 1)\n",
    "            labels = labels.permute(0, 2, 1)\n",
    "            loss = criterion(outputs, labels)\n",
    "            total_loss += loss.item()\n",
    "            outputs = outputs.permute(0, 2, 1)\n",
    "            labels = labels.permute(0, 2, 1)\n",
    "            for i in range(len(labels)):\n",
    "                predicted_label = decode_label(outputs[i])\n",
    "                true_label = decode_label(labels[i])\n",
    "                if print_output and i==0:\n",
    "                    print(true_label, \"<-- True Label\")\n",
    "                    print(predicted_label, \"<-- Predicted Label\")\n",
    "                for j in range(len(true_label)):\n",
    "                    if j < len(predicted_label) and predicted_label[j] == true_label[j]:\n",
    "                        correct_chars += 1\n",
    "                    total_chars += 1\n",
    "    avg_correct_chars = correct_chars / total_chars\n",
    "    total_loss = total_loss / len(data_loader)\n",
    "    return total_loss, avg_correct_chars"
   ]
  },
  {
   "cell_type": "code",
   "execution_count": 20,
   "metadata": {},
   "outputs": [],
   "source": [
    "def train(model, train_loader, val_loader, criterion, optimizer, num_epochs=10, device='cuda'):\n",
    "    model.to(device)\n",
    "    for epoch in range(num_epochs):\n",
    "        model.train()\n",
    "        train_loss = 0\n",
    "        train_loader_tqdm = tqdm(train_loader, desc=f\"Epoch [{epoch+1}/{num_epochs}] - Training\")\n",
    "        \n",
    "        for images, labels in train_loader_tqdm:\n",
    "            images, labels = images.to(device), labels.to(device)\n",
    "            optimizer.zero_grad()\n",
    "            outputs = model(images)\n",
    "            outputs = outputs.permute(0, 2, 1)\n",
    "            labels = labels.permute(0, 2, 1)\n",
    "            loss = criterion(outputs, labels)\n",
    "            loss.backward()\n",
    "            optimizer.step()\n",
    "            train_loss += loss.item()\n",
    "        \n",
    "        train_loss /= len(train_loader)\n",
    "        val_loss, avg_correct_chars = evaluate(model, val_loader, criterion, device)\n",
    "        print(f\"Epoch [{epoch+1}/{num_epochs}], Train Loss: {train_loss:.4f}, Val Loss: {val_loss:.4f}, ANCC in Val: {avg_correct_chars:.4f}\")"
   ]
  },
  {
   "cell_type": "code",
   "execution_count": 21,
   "metadata": {},
   "outputs": [],
   "source": [
    "def random_baseline_accuracy(labels):\n",
    "    correct_chars = 0\n",
    "    total_chars = 0\n",
    "    for label in labels:\n",
    "        predicted_label = ''.join(np.random.choice(list('ABCDEFGHIJKLMNOPQRSTUVWXYZabcdefghijklmnopqrstuvwxyz'), len(label)))\n",
    "        for i in range(len(label)):\n",
    "            if predicted_label[i] == label[i]:\n",
    "                correct_chars += 1\n",
    "            total_chars += 1\n",
    "    return correct_chars / total_chars"
   ]
  },
  {
   "cell_type": "code",
   "execution_count": 22,
   "metadata": {},
   "outputs": [
    {
     "name": "stdout",
     "output_type": "stream",
     "text": [
      "Random Baseline Accuracy: 0.0189\n"
     ]
    }
   ],
   "source": [
    "random_accuracy = random_baseline_accuracy(val_labels)\n",
    "print(f\"Random Baseline Accuracy: {random_accuracy:.4f}\")"
   ]
  },
  {
   "cell_type": "code",
   "execution_count": 23,
   "metadata": {},
   "outputs": [
    {
     "name": "stderr",
     "output_type": "stream",
     "text": [
      "Epoch [1/10] - Training: 100%|██████████| 1247/1247 [02:42<00:00,  7.65it/s]\n"
     ]
    },
    {
     "name": "stdout",
     "output_type": "stream",
     "text": [
      "Epoch [1/10], Train Loss: 1.0687, Val Loss: 0.7889, ANCC in Val: 0.3752\n"
     ]
    },
    {
     "name": "stderr",
     "output_type": "stream",
     "text": [
      "Epoch [2/10] - Training: 100%|██████████| 1247/1247 [02:40<00:00,  7.75it/s]\n"
     ]
    },
    {
     "name": "stdout",
     "output_type": "stream",
     "text": [
      "Epoch [2/10], Train Loss: 0.5794, Val Loss: 0.3493, ANCC in Val: 0.7155\n"
     ]
    },
    {
     "name": "stderr",
     "output_type": "stream",
     "text": [
      "Epoch [3/10] - Training: 100%|██████████| 1247/1247 [02:31<00:00,  8.24it/s]\n"
     ]
    },
    {
     "name": "stdout",
     "output_type": "stream",
     "text": [
      "Epoch [3/10], Train Loss: 0.2827, Val Loss: 0.1693, ANCC in Val: 0.8666\n"
     ]
    },
    {
     "name": "stderr",
     "output_type": "stream",
     "text": [
      "Epoch [4/10] - Training: 100%|██████████| 1247/1247 [02:25<00:00,  8.58it/s]\n"
     ]
    },
    {
     "name": "stdout",
     "output_type": "stream",
     "text": [
      "Epoch [4/10], Train Loss: 0.1661, Val Loss: 0.1172, ANCC in Val: 0.9081\n"
     ]
    },
    {
     "name": "stderr",
     "output_type": "stream",
     "text": [
      "Epoch [5/10] - Training: 100%|██████████| 1247/1247 [02:13<00:00,  9.33it/s]\n"
     ]
    },
    {
     "name": "stdout",
     "output_type": "stream",
     "text": [
      "Epoch [5/10], Train Loss: 0.1176, Val Loss: 0.0841, ANCC in Val: 0.9336\n"
     ]
    },
    {
     "name": "stderr",
     "output_type": "stream",
     "text": [
      "Epoch [6/10] - Training: 100%|██████████| 1247/1247 [02:13<00:00,  9.34it/s]\n"
     ]
    },
    {
     "name": "stdout",
     "output_type": "stream",
     "text": [
      "Epoch [6/10], Train Loss: 0.0946, Val Loss: 0.0651, ANCC in Val: 0.9491\n"
     ]
    },
    {
     "name": "stderr",
     "output_type": "stream",
     "text": [
      "Epoch [7/10] - Training: 100%|██████████| 1247/1247 [02:16<00:00,  9.10it/s]\n"
     ]
    },
    {
     "name": "stdout",
     "output_type": "stream",
     "text": [
      "Epoch [7/10], Train Loss: 0.0822, Val Loss: 0.0567, ANCC in Val: 0.9560\n"
     ]
    },
    {
     "name": "stderr",
     "output_type": "stream",
     "text": [
      "Epoch [8/10] - Training: 100%|██████████| 1247/1247 [02:16<00:00,  9.13it/s]\n"
     ]
    },
    {
     "name": "stdout",
     "output_type": "stream",
     "text": [
      "Epoch [8/10], Train Loss: 0.0693, Val Loss: 0.0469, ANCC in Val: 0.9647\n"
     ]
    },
    {
     "name": "stderr",
     "output_type": "stream",
     "text": [
      "Epoch [9/10] - Training: 100%|██████████| 1247/1247 [02:35<00:00,  8.04it/s]\n"
     ]
    },
    {
     "name": "stdout",
     "output_type": "stream",
     "text": [
      "Epoch [9/10], Train Loss: 0.0642, Val Loss: 0.0564, ANCC in Val: 0.9574\n"
     ]
    },
    {
     "name": "stderr",
     "output_type": "stream",
     "text": [
      "Epoch [10/10] - Training: 100%|██████████| 1247/1247 [02:13<00:00,  9.32it/s]\n"
     ]
    },
    {
     "name": "stdout",
     "output_type": "stream",
     "text": [
      "Epoch [10/10], Train Loss: 0.0566, Val Loss: 0.0508, ANCC in Val: 0.9612\n"
     ]
    }
   ],
   "source": [
    "train(model, train_loader, val_loader, criterion, optimizer, num_epochs=10, device=device)"
   ]
  },
  {
   "cell_type": "code",
   "execution_count": 24,
   "metadata": {},
   "outputs": [
    {
     "name": "stdout",
     "output_type": "stream",
     "text": [
      "murkly <-- True Label\n",
      "murkly <-- Predicted Label\n",
      "spinigrade <-- True Label\n",
      "spinigrade <-- Predicted Label\n",
      "overmercifulness <-- True Label\n",
      "overmercifuiness <-- Predicted Label\n",
      "armload <-- True Label\n",
      "armload <-- Predicted Label\n",
      "intrahepatic <-- True Label\n",
      "intrahepatic <-- Predicted Label\n",
      "irresilient <-- True Label\n",
      "irresilient <-- Predicted Label\n",
      "thunderblast <-- True Label\n",
      "thunderblast <-- Predicted Label\n",
      "manuscription <-- True Label\n",
      "manuscription <-- Predicted Label\n",
      "stockjobber <-- True Label\n",
      "scockiobber <-- Predicted Label\n",
      "reactionism <-- True Label\n",
      "reactionism <-- Predicted Label\n",
      "dichastic <-- True Label\n",
      "dichastic <-- Predicted Label\n",
      "commonplacely <-- True Label\n",
      "commonplacely <-- Predicted Label\n",
      "plague <-- True Label\n",
      "plague <-- Predicted Label\n",
      "contraoctave <-- True Label\n",
      "contraoctane <-- Predicted Label\n",
      "killcu <-- True Label\n",
      "killcul <-- Predicted Label\n",
      "overcontentment <-- True Label\n",
      "overcontentment <-- Predicted Label\n",
      "trimeter <-- True Label\n",
      "trimeter <-- Predicted Label\n",
      "astrometeorologist <-- True Label\n",
      "asteometenrolesist <-- Predicted Label\n",
      "superadministration <-- True Label\n",
      "superdleministationn <-- Predicted Label\n",
      "Yorker <-- True Label\n",
      "yorker <-- Predicted Label\n",
      "Pinal <-- True Label\n",
      "Pinal <-- Predicted Label\n",
      "enverdure <-- True Label\n",
      "enverdure <-- Predicted Label\n",
      "cripes <-- True Label\n",
      "cripes <-- Predicted Label\n",
      "anticomplementary <-- True Label\n",
      "alcochmplementert <-- Predicted Label\n",
      "veridicality <-- True Label\n",
      "veridicality <-- Predicted Label\n",
      "club <-- True Label\n",
      "club <-- Predicted Label\n",
      "ketting <-- True Label\n",
      "ketting <-- Predicted Label\n",
      "snoot <-- True Label\n",
      "snoot <-- Predicted Label\n",
      "scarlatinal <-- True Label\n",
      "scarlatinal <-- Predicted Label\n",
      "glaciate <-- True Label\n",
      "glaciate <-- Predicted Label\n",
      "rhombus <-- True Label\n",
      "rhombus <-- Predicted Label\n",
      "antalgol <-- True Label\n",
      "antalgol <-- Predicted Label\n",
      "prolegomenary <-- True Label\n",
      "prolegomenary <-- Predicted Label\n",
      "ismy <-- True Label\n",
      "ismy <-- Predicted Label\n",
      "cyclostomate <-- True Label\n",
      "cyclostomate <-- Predicted Label\n",
      "Securigera <-- True Label\n",
      "Securigera <-- Predicted Label\n",
      "preomission <-- True Label\n",
      "preomission <-- Predicted Label\n",
      "carbonizable <-- True Label\n",
      "carbonizable <-- Predicted Label\n",
      "deforcement <-- True Label\n",
      "deforcement <-- Predicted Label\n",
      "brainwater <-- True Label\n",
      "brainwater <-- Predicted Label\n",
      "urethane <-- True Label\n",
      "urethane <-- Predicted Label\n",
      "Photinian <-- True Label\n",
      "Photinian <-- Predicted Label\n",
      "facund <-- True Label\n",
      "facund <-- Predicted Label\n",
      "pecker <-- True Label\n",
      "pecker <-- Predicted Label\n",
      "tintinnabulum <-- True Label\n",
      "tinfinnabulum <-- Predicted Label\n",
      "histie <-- True Label\n",
      "histie <-- Predicted Label\n",
      "wheellike <-- True Label\n",
      "wheellike <-- Predicted Label\n",
      "clickless <-- True Label\n",
      "clickless <-- Predicted Label\n",
      "unchaptered <-- True Label\n",
      "unchaptered <-- Predicted Label\n",
      "dishonestly <-- True Label\n",
      "dishonestly <-- Predicted Label\n",
      "sipid <-- True Label\n",
      "sipid <-- Predicted Label\n",
      "dialycarpous <-- True Label\n",
      "dialycarpous <-- Predicted Label\n",
      "ultrafidian <-- True Label\n",
      "ultrafidian <-- Predicted Label\n",
      "forewish <-- True Label\n",
      "forewish <-- Predicted Label\n",
      "agamospore <-- True Label\n",
      "agamospore <-- Predicted Label\n",
      "pinacle <-- True Label\n",
      "pinacle <-- Predicted Label\n",
      "interaxis <-- True Label\n",
      "interaxis <-- Predicted Label\n",
      "maledict <-- True Label\n",
      "maledict <-- Predicted Label\n",
      "microestimation <-- True Label\n",
      "microestimation <-- Predicted Label\n",
      "muller <-- True Label\n",
      "muller <-- Predicted Label\n",
      "ignifuge <-- True Label\n",
      "iggifuge <-- Predicted Label\n",
      "virtuosoship <-- True Label\n",
      "virtuosoship <-- Predicted Label\n",
      "unmanured <-- True Label\n",
      "unmanured <-- Predicted Label\n",
      "televox <-- True Label\n",
      "televox <-- Predicted Label\n",
      "mistbow <-- True Label\n",
      "mistbow <-- Predicted Label\n",
      "arachnitis <-- True Label\n",
      "arachnitis <-- Predicted Label\n",
      "nondepressed <-- True Label\n",
      "nondepressed <-- Predicted Label\n",
      "snowless <-- True Label\n",
      "snowless <-- Predicted Label\n",
      "Saccomyidae <-- True Label\n",
      "Saccomyidae <-- Predicted Label\n",
      "forebreast <-- True Label\n",
      "forebreast <-- Predicted Label\n",
      "tincal <-- True Label\n",
      "tincal <-- Predicted Label\n",
      "gusset <-- True Label\n",
      "gusset <-- Predicted Label\n",
      "overburthen <-- True Label\n",
      "overburthen <-- Predicted Label\n",
      "Phocaean <-- True Label\n",
      "Phocaean <-- Predicted Label\n",
      "worry <-- True Label\n",
      "worry <-- Predicted Label\n",
      "exflagellate <-- True Label\n",
      "exflawellate <-- Predicted Label\n",
      "noncontiguous <-- True Label\n",
      "noncontiguous <-- Predicted Label\n",
      "postcrural <-- True Label\n",
      "posturural <-- Predicted Label\n",
      "ileum <-- True Label\n",
      "ileum <-- Predicted Label\n",
      "discernible <-- True Label\n",
      "discernible <-- Predicted Label\n",
      "deepsome <-- True Label\n",
      "deepsome <-- Predicted Label\n",
      "Ijo <-- True Label\n",
      "lio <-- Predicted Label\n",
      "intercalatory <-- True Label\n",
      "intercalatory <-- Predicted Label\n",
      "subshire <-- True Label\n",
      "subshire <-- Predicted Label\n",
      "hurtlessness <-- True Label\n",
      "hurtlessness <-- Predicted Label\n",
      "scutulate <-- True Label\n",
      "scutulate <-- Predicted Label\n",
      "legenda <-- True Label\n",
      "legenda <-- Predicted Label\n",
      "preferential <-- True Label\n",
      "preferential <-- Predicted Label\n",
      "blacken <-- True Label\n",
      "blacken <-- Predicted Label\n",
      "pilkins <-- True Label\n",
      "pilkins <-- Predicted Label\n",
      "naphtholize <-- True Label\n",
      "naphtholize <-- Predicted Label\n",
      "accroach <-- True Label\n",
      "accroach <-- Predicted Label\n",
      "earthshock <-- True Label\n",
      "earthshock <-- Predicted Label\n",
      "triumphal <-- True Label\n",
      "triumphal <-- Predicted Label\n",
      "pituri <-- True Label\n",
      "piturit <-- Predicted Label\n",
      "frazil <-- True Label\n",
      "frazil <-- Predicted Label\n",
      "underbeat <-- True Label\n",
      "underbeat <-- Predicted Label\n",
      "discommodiousness <-- True Label\n",
      "disoommodiousnesss <-- Predicted Label\n",
      "unarresting <-- True Label\n",
      "unarresting <-- Predicted Label\n",
      "biometrician <-- True Label\n",
      "biometrician <-- Predicted Label\n",
      "Drupa <-- True Label\n",
      "Crupa <-- Predicted Label\n",
      "unconglomerated <-- True Label\n",
      "unconglomenated <-- Predicted Label\n",
      "platitudinize <-- True Label\n",
      "plalitudinizee <-- Predicted Label\n",
      "prededicate <-- True Label\n",
      "prededicate <-- Predicted Label\n",
      "aquiferous <-- True Label\n",
      "aquiferous <-- Predicted Label\n",
      "customer <-- True Label\n",
      "customer <-- Predicted Label\n",
      "amentulum <-- True Label\n",
      "amentulum <-- Predicted Label\n",
      "schoolteacherish <-- True Label\n",
      "sohoolteacherion <-- Predicted Label\n",
      "personeity <-- True Label\n",
      "personeity <-- Predicted Label\n",
      "vaporarium <-- True Label\n",
      "vaporarium <-- Predicted Label\n",
      "insentience <-- True Label\n",
      "insentience <-- Predicted Label\n",
      "fluavil <-- True Label\n",
      "fluavil <-- Predicted Label\n",
      "imagery <-- True Label\n",
      "imagery <-- Predicted Label\n",
      "hoodwink <-- True Label\n",
      "hoodwinke <-- Predicted Label\n",
      "horseback <-- True Label\n",
      "horseback <-- Predicted Label\n",
      "Homalopterous <-- True Label\n",
      "Homalopterous <-- Predicted Label\n",
      "quadrivoltine <-- True Label\n",
      "quadrrvolitiee <-- Predicted Label\n",
      "sisterliness <-- True Label\n",
      "sisterliness <-- Predicted Label\n",
      "subterranean <-- True Label\n",
      "subterraneen <-- Predicted Label\n",
      "hamate <-- True Label\n",
      "hamate <-- Predicted Label\n",
      "ampherotoky <-- True Label\n",
      "ampherotohy <-- Predicted Label\n",
      "thin <-- True Label\n",
      "thin <-- Predicted Label\n",
      "Phryganeidae <-- True Label\n",
      "Phrynaneidae <-- Predicted Label\n",
      "mutteringly <-- True Label\n",
      "mutteringly <-- Predicted Label\n",
      "insensible <-- True Label\n",
      "insensidle <-- Predicted Label\n",
      "inverity <-- True Label\n",
      "inverity <-- Predicted Label\n",
      "intemperament <-- True Label\n",
      "intemmeramentt <-- Predicted Label\n",
      "iconolater <-- True Label\n",
      "iconolater <-- Predicted Label\n",
      "sprayproof <-- True Label\n",
      "sprayproof <-- Predicted Label\n",
      "unintrusively <-- True Label\n",
      "unintrusively <-- Predicted Label\n",
      "urchinlike <-- True Label\n",
      "urchinlike <-- Predicted Label\n",
      "apomecometer <-- True Label\n",
      "apomecometer <-- Predicted Label\n",
      "monaural <-- True Label\n",
      "monaural <-- Predicted Label\n",
      "nondialyzing <-- True Label\n",
      "nondlazyzing <-- Predicted Label\n",
      "intergenerating <-- True Label\n",
      "intergenerating <-- Predicted Label\n",
      "unpropitiated <-- True Label\n",
      "unpropitiated <-- Predicted Label\n",
      "Adelea <-- True Label\n",
      "Adelea <-- Predicted Label\n",
      "puddinghead <-- True Label\n",
      "puddingheed <-- Predicted Label\n",
      "preoffense <-- True Label\n",
      "preoffense <-- Predicted Label\n",
      "sternutatory <-- True Label\n",
      "sternutatory <-- Predicted Label\n",
      "closely <-- True Label\n",
      "closely <-- Predicted Label\n",
      "yabble <-- True Label\n",
      "yabble <-- Predicted Label\n",
      "panchayat <-- True Label\n",
      "panchayat <-- Predicted Label\n",
      "praemaxilla <-- True Label\n",
      "praemaxilla <-- Predicted Label\n",
      "suaveness <-- True Label\n",
      "suaveness <-- Predicted Label\n",
      "lingulid <-- True Label\n",
      "lingulid <-- Predicted Label\n",
      "unsoulfully <-- True Label\n",
      "unsoulfully <-- Predicted Label\n",
      "grabbler <-- True Label\n",
      "grabbler <-- Predicted Label\n",
      "significavit <-- True Label\n",
      "significenity <-- Predicted Label\n",
      "down <-- True Label\n",
      "doon <-- Predicted Label\n",
      "gerbil <-- True Label\n",
      "gerbil <-- Predicted Label\n",
      "untumid <-- True Label\n",
      "untumid <-- Predicted Label\n",
      "preinvent <-- True Label\n",
      "preinvent <-- Predicted Label\n",
      "exploitative <-- True Label\n",
      "exploitative <-- Predicted Label\n",
      "homogen <-- True Label\n",
      "homogen <-- Predicted Label\n",
      "areometer <-- True Label\n",
      "areometer <-- Predicted Label\n",
      "Test Loss: 0.0467, ANCC in Test: 0.9640\n"
     ]
    }
   ],
   "source": [
    "test_loss, avg_correct_chars = evaluate(model, test_loader, criterion, device, print_output=True)\n",
    "print(f\"Test Loss: {test_loss:.4f}, ANCC in Test: {avg_correct_chars:.4f}\")"
   ]
  }
 ],
 "metadata": {
  "kernelspec": {
   "display_name": "Python 3",
   "language": "python",
   "name": "python3"
  },
  "language_info": {
   "codemirror_mode": {
    "name": "ipython",
    "version": 3
   },
   "file_extension": ".py",
   "mimetype": "text/x-python",
   "name": "python",
   "nbconvert_exporter": "python",
   "pygments_lexer": "ipython3",
   "version": "3.12.7"
  }
 },
 "nbformat": 4,
 "nbformat_minor": 2
}
